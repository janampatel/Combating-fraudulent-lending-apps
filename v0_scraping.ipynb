{
 "cells": [
  {
   "cell_type": "code",
   "execution_count": 29,
   "id": "971acb31-1e99-4431-9015-b751565cce3e",
   "metadata": {},
   "outputs": [],
   "source": [
    "import requests\n",
    "from urllib.parse import urlparse, urljoin\n",
    "from collections import deque\n",
    "from bs4 import BeautifulSoup\n",
    "from google_play_scraper import app\n",
    "from PyAPKDownloader.aptoide import Aptoide"
   ]
  },
  {
   "cell_type": "code",
   "execution_count": 8,
   "id": "a5627bf3-8eab-46f8-91ea-3c7ebc57e4c8",
   "metadata": {},
   "outputs": [],
   "source": [
    "result = app(\n",
    "    'co.tslc.cashe.android&hl=en',\n",
    "    lang='en', # defaults to 'en'\n",
    "    country='us' # defaults to 'us'\n",
    ")"
   ]
  },
  {
   "cell_type": "code",
   "execution_count": 30,
   "id": "649834f9-1eaf-4d2e-b8f9-e723c35b6e98",
   "metadata": {},
   "outputs": [
    {
     "data": {
      "text/plain": [
       "{'title': 'CASHe: Loan & Credit line App',\n",
       " 'description': 'CASHe is an instant personal loan app for salaried professionals, where you can avail instant personal loans starting from ₹1,000 to ₹4,00,000 and receive the money in your bank account instantly. With CASHe, applying for an instant loan is now an easy and hassle-free experience. So, download the CASHe personal loan app now.\\r\\nFeatures of CASHe – Personal Loan App:\\r\\n✔️ Quick personal loans ranging from ₹1,000 - ₹4,00,000 \\r\\n✔️ No guarantors/collaterals\\r\\n✔️ 100% paperless instant loan application\\r\\n✔️ Flexible repayment period\\r\\n✔️ 0 foreclosure charges\\r\\n✔️ Enjoy online shopping at no cost EMI*\\r\\n✔️ Instant disbursal of the instant loan amount to your bank account\\r\\n✔️ Repay the loan through various payment methods\\r\\n\\r\\nCASHe Products\\r\\n💰 Instant Personal Loan\\r\\nGet an instant personal loan from the CASHe easy loan app to take care of your needs! Choose from various types of quick personal loans like car loans, home renovation loans, education loans, marriage loans, etc. with a tenure ranging from 3 months to 1.5 years.\\r\\n💸 CASHe Credit Line\\r\\nApply for a credit line on the CASHe app with minimal documentation and instant approval for a tenure of 1 year, and avail short-term loans for your emergency and shopping needs.\\r\\n💵 Buy Now Pay Later with CASHe\\r\\nGet 0%* interest instant online shopping loans on the CASHe app. You can avail these BNPL loans to make purchases on leading online platforms and repay them later with easy EMIs.\\r\\n\\r\\nPersonal Loan Eligibility:\\r\\n✔ ️ Salaried professional above 21 years of age.\\r\\n✔️ Minimum net monthly salary => ₹15,000.\\r\\n✔️ Salary must be credited through direct bank transfer only.\\r\\n\\r\\nHow to Apply For a Personal Loan Online on CASHe?\\r\\n➡️ Download and log in to the CASHe app.\\r\\n➡️ Register using your social media account.\\r\\n➡️ Enter all the necessary personal details to check your online personal loan eligibility.\\r\\n➡️ Submit the KYC documents and apply for an instant personal loan.\\r\\n➡️ Your loan amount will be transferred directly to your bank account post approval.\\r\\n\\r\\nDocuments required to apply for a loan:\\r\\n✅ PAN Card\\r\\n✅ Identity proof\\r\\n✅ Address proof (Driving Licence/Voter ID/Passport/Aadhaar Card/Utility Bills)\\r\\n✅ 3-month bank statements showing salary credit\\r\\n✅ Selfie\\r\\n\\r\\nInterest, tenures, and other specifications\\r\\n➡️ Minimum Annual Percentage Rate (APR) – 30.42%\\r\\n➡️ Maximum Annual Percentage Rate (APR) – 47.76%\\r\\n➡️ Repayment Tenure: 3 months to 18 months\\r\\n➡️ Processing fee: \\r\\nCASHe 540 - 3% or 1000, whichever is higher\\r\\nCASHe 180, CASHe 270, CASHe 1 year - 2% or 1200, whichever is higher\\r\\nCASHe 90 - 1.5% or 500, whichever is higher\\r\\n\\r\\nWhat makes CASHe ideal for every customer?\\r\\n✅ Easy online personal loans\\r\\n✅ Low instant loan interest rates\\r\\n✅ Hassle-free loan application process\\r\\n✅ Quick approvals and instant loan disbursal\\r\\n✅ Flexible repayment terms\\r\\n\\r\\nSample Loan Calculation\\r\\nLoan amount: ₹30,000 at fixed interest rate of 30.42% p.a.(equivalent reducing interest rate of 44.52%)\\r\\nLoan duration: 3 Months\\r\\nTotal personal loan interest = ₹2,250\\r\\nProcessing fees (PF) + GST = ₹750 + ₹300 + ₹300 + ₹150 + ₹150 + ₹297 = ₹1947\\r\\nTotal deductibles (PF + GST): ₹590\\r\\nIn-hand amount (Loan amount - Total deductibles) = ₹30,000 - ₹590 = ₹28,053\\r\\nTotal repayable amount (Loan amount + interest): ₹32,250\\r\\nMonthly EMI repayable (Loan amount + interest / No of EMI’s): ₹10,750\\r\\n(Note: PF and GST are deducted upfront during the loan disbursal.)\\r\\n\\r\\nPartner NBFCs/Banks\\r\\n➡️ Bhanix Finance and Investment Ltd.\\r\\n➡️ Vivriti Capital Private Ltd.\\r\\n➡️ Northern Arc Capital Ltd.\\r\\n\\r\\n🔒 Data Security via Secure Loan Application\\r\\nCASHe is committed to promoting best practices in digital lending and adheres to RBI’s Fair Practice Code. All CASHe transactions are secured via 128-bit SSL encryption.\\r\\nDownload the CASHe personal loan app now and experience a new way of borrowing!\\r\\nअपनी ज़रूरतों को पूरा करने के लिए CASHe इंस्टेंट पर्सनल लोन के लिए आवेदन करें। पर्सनल लोन के लिए आवेदन करने से पहले अपनी पर्सनल लोन पात्रता और डॉक्यूमेंट की जांच करें।\\r\\n📧 Contact Us:\\r\\nReach out to us at support@cashe.co.in.',\n",
       " 'descriptionHTML': 'CASHe is an instant personal loan app for salaried professionals, where you can avail instant personal loans starting from ₹1,000 to ₹4,00,000 and receive the money in your bank account instantly. With CASHe, applying for an instant loan is now an easy and hassle-free experience. So, download the CASHe personal loan app now.<br>Features of CASHe – Personal Loan App:<br>✔️ Quick personal loans ranging from ₹1,000 - ₹4,00,000 <br>✔️ No guarantors/collaterals<br>✔️ 100% paperless instant loan application<br>✔️ Flexible repayment period<br>✔️ 0 foreclosure charges<br>✔️ Enjoy online shopping at no cost EMI*<br>✔️ Instant disbursal of the instant loan amount to your bank account<br>✔️ Repay the loan through various payment methods<br><br>CASHe Products<br>💰 Instant Personal Loan<br>Get an instant personal loan from the CASHe easy loan app to take care of your needs! Choose from various types of quick personal loans like car loans, home renovation loans, education loans, marriage loans, etc. with a tenure ranging from 3 months to 1.5 years.<br>💸 CASHe Credit Line<br>Apply for a credit line on the CASHe app with minimal documentation and instant approval for a tenure of 1 year, and avail short-term loans for your emergency and shopping needs.<br>💵 Buy Now Pay Later with CASHe<br>Get 0%* interest instant online shopping loans on the CASHe app. You can avail these BNPL loans to make purchases on leading online platforms and repay them later with easy EMIs.<br><br>Personal Loan Eligibility:<br>✔ ️ Salaried professional above 21 years of age.<br>✔️ Minimum net monthly salary =&gt; ₹15,000.<br>✔️ Salary must be credited through direct bank transfer only.<br><br>How to Apply For a Personal Loan Online on CASHe?<br>➡️ Download and log in to the CASHe app.<br>➡️ Register using your social media account.<br>➡️ Enter all the necessary personal details to check your online personal loan eligibility.<br>➡️ Submit the KYC documents and apply for an instant personal loan.<br>➡️ Your loan amount will be transferred directly to your bank account post approval.<br><br>Documents required to apply for a loan:<br>✅ PAN Card<br>✅ Identity proof<br>✅ Address proof (Driving Licence/Voter ID/Passport/Aadhaar Card/Utility Bills)<br>✅ 3-month bank statements showing salary credit<br>✅ Selfie<br><br>Interest, tenures, and other specifications<br>➡️ Minimum Annual Percentage Rate (APR) – 30.42%<br>➡️ Maximum Annual Percentage Rate (APR) – 47.76%<br>➡️ Repayment Tenure: 3 months to 18 months<br>➡️ Processing fee: <br>CASHe 540 - 3% or 1000, whichever is higher<br>CASHe 180, CASHe 270, CASHe 1 year - 2% or 1200, whichever is higher<br>CASHe 90 - 1.5% or 500, whichever is higher<br><br>What makes CASHe ideal for every customer?<br>✅ Easy online personal loans<br>✅ Low instant loan interest rates<br>✅ Hassle-free loan application process<br>✅ Quick approvals and instant loan disbursal<br>✅ Flexible repayment terms<br><br>Sample Loan Calculation<br>Loan amount: ₹30,000 at fixed interest rate of 30.42% p.a.(equivalent reducing interest rate of 44.52%)<br>Loan duration: 3 Months<br>Total personal loan interest = ₹2,250<br>Processing fees (PF) + GST = ₹750 + ₹300 + ₹300 + ₹150 + ₹150 + ₹297 = ₹1947<br>Total deductibles (PF + GST): ₹590<br>In-hand amount (Loan amount - Total deductibles) = ₹30,000 - ₹590 = ₹28,053<br>Total repayable amount (Loan amount + interest): ₹32,250<br>Monthly EMI repayable (Loan amount + interest / No of EMI’s): ₹10,750<br>(Note: PF and GST are deducted upfront during the loan disbursal.)<br><br>Partner NBFCs/Banks<br>➡️ Bhanix Finance and Investment Ltd.<br>➡️ Vivriti Capital Private Ltd.<br>➡️ Northern Arc Capital Ltd.<br><br>🔒 Data Security via Secure Loan Application<br>CASHe is committed to promoting best practices in digital lending and adheres to RBI’s Fair Practice Code. All CASHe transactions are secured via 128-bit SSL encryption.<br>Download the CASHe personal loan app now and experience a new way of borrowing!<br>अपनी ज़रूरतों को पूरा करने के लिए CASHe इंस्टेंट पर्सनल लोन के लिए आवेदन करें। पर्सनल लोन के लिए आवेदन करने से पहले अपनी पर्सनल लोन पात्रता और डॉक्यूमेंट की जांच करें।<br>📧 Contact Us:<br>Reach out to us at support@cashe.co.in.',\n",
       " 'summary': 'Instant money loan for all your immediate financial needs without any paperwork.',\n",
       " 'installs': '10,000,000+',\n",
       " 'minInstalls': 10000000,\n",
       " 'realInstalls': 16411994,\n",
       " 'score': 2.76,\n",
       " 'ratings': 330518,\n",
       " 'reviews': 77,\n",
       " 'histogram': [156996, 5508, 33051, 19280, 110172],\n",
       " 'price': 0,\n",
       " 'free': True,\n",
       " 'currency': 'USD',\n",
       " 'sale': False,\n",
       " 'saleTime': None,\n",
       " 'originalPrice': None,\n",
       " 'saleText': None,\n",
       " 'offersIAP': False,\n",
       " 'inAppProductPrice': None,\n",
       " 'developer': 'CASHe: Instant Personal Loan App',\n",
       " 'developerId': '7966655687256394494',\n",
       " 'developerEmail': 'support@cashe.co.in',\n",
       " 'developerWebsite': 'https://www.cashe.co.in',\n",
       " 'developerAddress': '5th Floor, Paville House, Off Veer Savarkar Marg, Prabhadevi, Mumbai City MH IN 400025',\n",
       " 'privacyPolicy': 'https://info.cashe.co.in/privacy-policy.html',\n",
       " 'genre': 'Finance',\n",
       " 'genreId': 'FINANCE',\n",
       " 'categories': [{'name': 'Finance', 'id': 'FINANCE'}],\n",
       " 'icon': 'https://play-lh.googleusercontent.com/mimdIR411OJQ6bzZkTeX2mPG6CqK7UdH-nneUCAjoaaOcDbcrIRqyS8IAHuO0Qswl94',\n",
       " 'headerImage': 'https://play-lh.googleusercontent.com/48DBj_SWf0VdpjEUqHXOt8qo8W2i0LO1FI-0Z7XUG-eU3A-Fn0g9lXgRPKXov6feGjM',\n",
       " 'screenshots': ['https://play-lh.googleusercontent.com/lLZFPdP28o1MH-KMQu2PzHS1UdpPfw5VhekapsisGHF-J14J7OFkC5-H__PHm4_gqw',\n",
       "  'https://play-lh.googleusercontent.com/Gf1Z9ukkD85aomBW9vWNR4U6Ag-MLcFbvDI6q0nfW5mIPlEeQz8TtaAIfLiiFKxY5FM',\n",
       "  'https://play-lh.googleusercontent.com/gneqOen_o2RnyYc40tAYCqyoDUb2GrCRoF0v6-y1EUwK8EHPUtiq--02fBHbaWRjbA',\n",
       "  'https://play-lh.googleusercontent.com/eQOIYxgHCKLgMtxVxDBOBnLEWo24aMcU6hMPllaMY3L6a2iB0CezKP2SO3Zpx2LxEpA',\n",
       "  'https://play-lh.googleusercontent.com/-N-6qIWZ_TDp9T5b9lZOBxZfV21XD8QD2_mbLJq2b0RkI5XivkuLLu7ExQ9UDpn2ITo',\n",
       "  'https://play-lh.googleusercontent.com/Bz85QH4evWeCP9RWDgztjQwXL4Rih4R0p-xVDB6oSMU7cHl55kfCW_5Z4qErmxJcmw',\n",
       "  'https://play-lh.googleusercontent.com/bLFrAeQUa2VOPv8NVTDh5wWZl3ftS_RtXhuAldFKXny0hrXIvpUNDaWDGIUyoR_61Q',\n",
       "  'https://play-lh.googleusercontent.com/VifnJ1rZdn4S01TnLJUrY5Mt5SFXuYCTNNm_OIcBZhM52wllcW7-Ci3gL3Qc31GgMA'],\n",
       " 'video': 'https://www.youtube.com/embed/ZRHBz1xn8NU?ps=play&vq=large&rel=0&autohide=1&showinfo=0',\n",
       " 'videoImage': 'https://play-lh.googleusercontent.com/48DBj_SWf0VdpjEUqHXOt8qo8W2i0LO1FI-0Z7XUG-eU3A-Fn0g9lXgRPKXov6feGjM',\n",
       " 'contentRating': 'Everyone',\n",
       " 'contentRatingDescription': None,\n",
       " 'adSupported': False,\n",
       " 'containsAds': False,\n",
       " 'released': 'Feb 25, 2016',\n",
       " 'lastUpdatedOn': 'Jun 20, 2024',\n",
       " 'updated': 1718909437,\n",
       " 'version': '9.1.1',\n",
       " 'comments': [],\n",
       " 'appId': 'co.tslc.cashe.android&hl=en',\n",
       " 'url': 'https://play.google.com/store/apps/details?id=co.tslc.cashe.android&hl=en&hl=en&gl=us'}"
      ]
     },
     "execution_count": 30,
     "metadata": {},
     "output_type": "execute_result"
    }
   ],
   "source": [
    "result"
   ]
  },
  {
   "cell_type": "code",
   "execution_count": 21,
   "id": "223c87d1-6e62-47cb-a3d8-e8425657be76",
   "metadata": {},
   "outputs": [],
   "source": [
    "urls=[]\n",
    "bases=['https://play.google.com/store/search?q=loan%20apps&c=apps&hl=en','https://play.google.com/store/search?q=loan&c=apps&hl=en','https://play.google.com/store/search?q=money%20loan&c=apps&hl=en','https://play.google.com/store/search?q=karj&c=apps&hl=en','https://play.google.com/store/search?q=less%20interest%20loan&c=apps&hl=en','https://play.google.com/store/search?q=credit&c=apps&hl=en','https://play.google.com/store/search?q=loan+app+-+get+cash+instantly&c=apps&hl=en','https://play.google.com/store/search?q=loan+app+-+get+cash+instantly+new&c=apps&hl=en','https://play.google.com/store/search?q=loan%20app%20-%20get%20cash%20instantly%20india&c=apps&hl=en','https://play.google.com/store/search?q=loan+app+-+get+cash+instantly+for+students&c=apps&hl=en','https://play.google.com/store/search?q=loan%20for%20housewives&c=apps&hl=en','https://play.google.com/store/search?q=loan%20for%20poor&c=apps&hl=en','https://play.google.com/store/search?q=underworld%20loan%20app&c=apps&hl=en','https://play.google.com/store/search?q=loan+against+property&c=apps&hl=en','https://play.google.com/store/search?q=loan+against+car&c=apps&hl=en','https://play.google.com/store/search?q=loan+against+mutual+funds&c=apps&hl=en','https://play.google.com/store/search?q=easy+finance+loan+app&c=apps&hl=en','https://play.google.com/store/search?q=loan%20against%20life&c=apps&hl=en','https://play.google.com/store/search?q=instant%20loan%20approval&c=apps&hl=en','https://play.google.com/store/search?q=loan%20against%20sex&c=apps&hl=en']\n",
    "for base in bases:\n",
    "  i=requests.get(base)\n",
    "  s=BeautifulSoup(i.text,\"html.parser\")\n",
    "  links=s.find_all(\"a\",class_='Si6A0c Gy4nib')\n",
    "  urls=urls+[link.get('href') for link in links]"
   ]
  },
  {
   "cell_type": "code",
   "execution_count": 22,
   "id": "73ed2f8b-b79a-4791-94f5-26381c6589d9",
   "metadata": {},
   "outputs": [
    {
     "data": {
      "text/plain": [
       "['/store/apps/details?id=com.instant.cash.advance.loan.app',\n",
       " '/store/apps/details?id=io.floatme.floatmeapp',\n",
       " '/store/apps/details?id=com.useline.line',\n",
       " '/store/apps/details?id=com.activehours',\n",
       " '/store/apps/details?id=com.dave',\n",
       " '/store/apps/details?id=com.DailyPay.DailyPay',\n",
       " '/store/apps/details?id=finance.empower',\n",
       " '/store/apps/details?id=com.moneylion',\n",
       " '/store/apps/details?id=com.hellobrigit.Brigit',\n",
       " '/store/apps/details?id=com.meetcleo.cleo',\n",
       " '/store/apps/details?id=com.varomoney.bank',\n",
       " '/store/apps/details?id=org.altruist.BajajExperia',\n",
       " '/store/apps/details?id=com.meetalbert',\n",
       " '/store/apps/details?id=com.ltmoneycenter_android.PROD',\n",
       " '/store/apps/details?id=com.ProActMobile',\n",
       " '/store/apps/details?id=com.lenmoinc.lenmo',\n",
       " '/store/apps/details?id=com.afterpaymobile.us',\n",
       " '/store/apps/details?id=com.solofunds',\n",
       " '/store/apps/details?id=com.creditgenie.app',\n",
       " '/store/apps/details?id=com.truebill',\n",
       " '/store/apps/details?id=com.springleaf.mobile',\n",
       " '/store/apps/details?id=us.rain.app',\n",
       " '/store/apps/details?id=com.instant.cash.advance.loan.app',\n",
       " '/store/apps/details?id=io.floatme.floatmeapp',\n",
       " '/store/apps/details?id=com.prosper.borrower.mobile',\n",
       " '/store/apps/details?id=com.dave',\n",
       " '/store/apps/details?id=com.moneylion',\n",
       " '/store/apps/details?id=finance.empower',\n",
       " '/store/apps/details?id=com.hellobrigit.Brigit',\n",
       " '/store/apps/details?id=com.activehours',\n",
       " '/store/apps/details?id=com.meetcleo.cleo',\n",
       " '/store/apps/details?id=com.lenmoinc.lenmo',\n",
       " '/store/apps/details?id=com.useline.line',\n",
       " '/store/apps/details?id=com.ltmoneycenter_android.PROD',\n",
       " '/store/apps/details?id=com.creditkarma.mobile',\n",
       " '/store/apps/details?id=com.creditgenie.app',\n",
       " '/store/apps/details?id=us.rain.app',\n",
       " '/store/apps/details?id=com.afterpaymobile.us',\n",
       " '/store/apps/details?id=com.truebill',\n",
       " '/store/apps/details?id=com.affirm.central',\n",
       " '/store/apps/details?id=com.DailyPay.DailyPay',\n",
       " '/store/apps/details?id=com.solofunds',\n",
       " '/store/apps/details?id=org.altruist.BajajExperia',\n",
       " '/store/apps/details?id=com.varomoney.bank',\n",
       " '/store/apps/details?id=com.adp.wiselymobile',\n",
       " '/store/apps/details?id=com.meetalbert',\n",
       " '/store/apps/details?id=com.quadpay.quadpay',\n",
       " '/store/apps/details?id=com.klovercredit.android_app',\n",
       " '/store/apps/details?id=com.sezzle.sezzlemobile',\n",
       " '/store/apps/details?id=com.even.harmony',\n",
       " '/store/apps/details?id=com.loandepot.loandepotmobile',\n",
       " '/store/apps/details?id=com.kikoff',\n",
       " '/store/apps/details?id=io.floatme.floatmeapp',\n",
       " '/store/apps/details?id=com.instant.cash.advance.loan.app',\n",
       " '/store/apps/details?id=com.moneylion',\n",
       " '/store/apps/details?id=com.klovercredit.android_app',\n",
       " '/store/apps/details?id=com.activehours',\n",
       " '/store/apps/details?id=com.meetcleo.cleo',\n",
       " '/store/apps/details?id=finance.empower',\n",
       " '/store/apps/details?id=com.hellobrigit.Brigit',\n",
       " '/store/apps/details?id=com.dave',\n",
       " '/store/apps/details?id=com.DailyPay.DailyPay',\n",
       " '/store/apps/details?id=com.meetalbert',\n",
       " '/store/apps/details?id=com.useline.line',\n",
       " '/store/apps/details?id=com.lenmoinc.lenmo',\n",
       " '/store/apps/details?id=com.ltmoneycenter_android.PROD',\n",
       " '/store/apps/details?id=com.creditgenie.app',\n",
       " '/store/apps/details?id=us.rain.app',\n",
       " '/store/apps/details?id=digit.android',\n",
       " '/store/apps/details?id=com.prosper.borrower.mobile',\n",
       " '/store/apps/details?id=com.truebill',\n",
       " '/store/apps/details?id=com.solofunds',\n",
       " '/store/apps/details?id=com.ProActMobile',\n",
       " '/store/apps/details?id=com.current.app',\n",
       " '/store/apps/details?id=org.altruist.BajajExperia',\n",
       " '/store/apps/details?id=com.affirm.central',\n",
       " '/store/apps/details?id=com.afterpaymobile.us',\n",
       " '/store/apps/details?id=com.dave',\n",
       " '/store/apps/details?id=com.adp.wiselymobile',\n",
       " '/store/apps/details?id=com.DailyPay.DailyPay',\n",
       " '/store/apps/details?id=com.quadpay.quadpay',\n",
       " '/store/apps/details?id=com.meetcleo.cleo',\n",
       " '/store/apps/details?id=com.hellobrigit.Brigit',\n",
       " '/store/apps/details?id=com.sezzle.sezzlemobile',\n",
       " '/store/apps/details?id=com.even.harmony',\n",
       " '/store/apps/details?id=com.creditkarma.mobile',\n",
       " '/store/apps/details?id=app.tabby.client',\n",
       " '/store/apps/details?id=br.gov.caixa.habitacao',\n",
       " '/store/apps/details?id=uz.paymart.paymart_mobile',\n",
       " '/store/apps/details?id=com.wooricard.smartapp',\n",
       " '/store/apps/details?id=com.klovercredit.android_app',\n",
       " '/store/apps/details?id=com.addimobile',\n",
       " '/store/apps/details?id=com.truebill',\n",
       " '/store/apps/details?id=com.creditgenie.app',\n",
       " '/store/apps/details?id=com.navyfederal.android',\n",
       " '/store/apps/details?id=com.cargurus.mobileApp',\n",
       " '/store/apps/details?id=com.instant.cash.advance.loan.app',\n",
       " '/store/apps/details?id=com.instant.cash.advance.loan.app',\n",
       " '/store/apps/details?id=com.prosper.borrower.mobile',\n",
       " '/store/apps/details?id=com.hellobrigit.Brigit',\n",
       " '/store/apps/details?id=com.creditgenie.app',\n",
       " '/store/apps/details?id=finance.empower',\n",
       " '/store/apps/details?id=com.moneylion',\n",
       " '/store/apps/details?id=io.floatme.floatmeapp',\n",
       " '/store/apps/details?id=com.solofunds',\n",
       " '/store/apps/details?id=com.borrow.money.app.payday.loans',\n",
       " '/store/apps/details?id=com.quick.cash.advance.loans',\n",
       " '/store/apps/details?id=com.personal.loans.personal_loans',\n",
       " '/store/apps/details?id=com.klovercredit.android_app',\n",
       " '/store/apps/details?id=com.activehours',\n",
       " '/store/apps/details?id=com.meetcleo.cleo',\n",
       " '/store/apps/details?id=com.creditkarma.mobile',\n",
       " '/store/apps/details?id=com.experian.android',\n",
       " '/store/apps/details?id=com.creditsesame',\n",
       " '/store/apps/details?id=com.myfico',\n",
       " '/store/apps/details?id=com.kikoff',\n",
       " '/store/apps/details?id=com.creditonebank.mobile',\n",
       " '/store/apps/details?id=com.dovly.app',\n",
       " '/store/apps/details?id=com.hellobrigit.Brigit',\n",
       " '/store/apps/details?id=com.arrofinance.production',\n",
       " '/store/apps/details?id=com.selflender.thor',\n",
       " '/store/apps/details?id=com.capitalone.credittracker',\n",
       " '/store/apps/details?id=finance.empower',\n",
       " '/store/apps/details?id=com.mobilecreditcards',\n",
       " '/store/apps/details?id=com.onedebit.chime',\n",
       " '/store/apps/details?id=com.konylabs.capitalone',\n",
       " '/store/apps/details?id=com.wallethub.mywallet',\n",
       " '/store/apps/details?id=com.truebill',\n",
       " '/store/apps/details?id=com.springleaf.omf.cards.prod',\n",
       " '/store/apps/details?id=com.affirm.central',\n",
       " '/store/apps/details?id=com.creditgenie.app',\n",
       " '/store/apps/details?id=com.transunion.TransUnion',\n",
       " '/store/apps/details?id=com.growcredit.prod',\n",
       " '/store/apps/details?id=com.meetcleo.cleo',\n",
       " '/store/apps/details?id=com.moneylion',\n",
       " '/store/apps/details?id=com.varomoney.bank',\n",
       " '/store/apps/details?id=bhct.coolCredit',\n",
       " '/store/apps/details?id=com.instant.cash.advance.loan.app',\n",
       " '/store/apps/details?id=io.floatme.floatmeapp',\n",
       " '/store/apps/details?id=com.useline.line',\n",
       " '/store/apps/details?id=com.creditgenie.app',\n",
       " '/store/apps/details?id=com.activehours',\n",
       " '/store/apps/details?id=finance.empower',\n",
       " '/store/apps/details?id=com.meetcleo.cleo',\n",
       " '/store/apps/details?id=com.hellobrigit.Brigit',\n",
       " '/store/apps/details?id=com.moneylion',\n",
       " '/store/apps/details?id=com.dave',\n",
       " '/store/apps/details?id=com.lenmoinc.lenmo',\n",
       " '/store/apps/details?id=com.klovercredit.android_app',\n",
       " '/store/apps/details?id=com.prosper.borrower.mobile',\n",
       " '/store/apps/details?id=us.rain.app',\n",
       " '/store/apps/details?id=com.loandepot.loandepotmobile',\n",
       " '/store/apps/details?id=com.solofunds',\n",
       " '/store/apps/details?id=com.chippercash',\n",
       " '/store/apps/details?id=com.b9.app',\n",
       " '/store/apps/details?id=com.ProActMobile',\n",
       " '/store/apps/details?id=com.meetalbert',\n",
       " '/store/apps/details?id=com.ltmoneycenter_android.PROD',\n",
       " '/store/apps/details?id=com.DailyPay.DailyPay',\n",
       " '/store/apps/details?id=com.branchmessenger',\n",
       " '/store/apps/details?id=com.instant.cash.advance.loan.app',\n",
       " '/store/apps/details?id=io.floatme.floatmeapp',\n",
       " '/store/apps/details?id=com.creditgenie.app',\n",
       " '/store/apps/details?id=com.klovercredit.android_app',\n",
       " '/store/apps/details?id=com.hellobrigit.Brigit',\n",
       " '/store/apps/details?id=com.moneylion',\n",
       " '/store/apps/details?id=com.borrow.money.app.payday.loans',\n",
       " '/store/apps/details?id=com.money.loans.cash.app',\n",
       " '/store/apps/details?id=com.activehours',\n",
       " '/store/apps/details?id=finance.empower',\n",
       " '/store/apps/details?id=com.meetcleo.cleo',\n",
       " '/store/apps/details?id=com.useline.line',\n",
       " '/store/apps/details?id=com.prosper.borrower.mobile',\n",
       " '/store/apps/details?id=com.loandepot.loandepotmobile',\n",
       " '/store/apps/details?id=com.thrivos.cash1',\n",
       " '/store/apps/details?id=com.quick.cash.advance.loans',\n",
       " '/store/apps/details?id=borrow.money.cash.advance.app',\n",
       " '/store/apps/details?id=com.b9.app',\n",
       " '/store/apps/details?id=com.geraldwallet',\n",
       " '/store/apps/details?id=com.wolfpackdigital.cashli',\n",
       " '/store/apps/details?id=com.quick.loans.online.instant.money',\n",
       " '/store/apps/details?id=com.lenmoinc.lenmo',\n",
       " '/store/apps/details?id=com.DailyPay.DailyPay',\n",
       " '/store/apps/details?id=com.payday.advance.borrow.money.app',\n",
       " '/store/apps/details?id=com.instant.cash.advance.loan.app',\n",
       " '/store/apps/details?id=com.creditgenie.app',\n",
       " '/store/apps/details?id=io.floatme.floatmeapp',\n",
       " '/store/apps/details?id=com.klovercredit.android_app',\n",
       " '/store/apps/details?id=com.activehours',\n",
       " '/store/apps/details?id=com.meetcleo.cleo',\n",
       " '/store/apps/details?id=com.moneylion',\n",
       " '/store/apps/details?id=com.hellobrigit.Brigit',\n",
       " '/store/apps/details?id=finance.empower',\n",
       " '/store/apps/details?id=com.borrow.money.app.payday.loans',\n",
       " '/store/apps/details?id=com.prosper.borrower.mobile',\n",
       " '/store/apps/details?id=com.useline.line',\n",
       " '/store/apps/details?id=com.thrivos.cash1',\n",
       " '/store/apps/details?id=com.lenmoinc.lenmo',\n",
       " '/store/apps/details?id=com.instant.cash.advance.loan.app',\n",
       " '/store/apps/details?id=com.creditgenie.app',\n",
       " '/store/apps/details?id=io.floatme.floatmeapp',\n",
       " '/store/apps/details?id=com.borrow.money.app.payday.loans',\n",
       " '/store/apps/details?id=com.activehours',\n",
       " '/store/apps/details?id=com.meetcleo.cleo',\n",
       " '/store/apps/details?id=com.moneylion',\n",
       " '/store/apps/details?id=finance.empower',\n",
       " '/store/apps/details?id=com.squareup.cash',\n",
       " '/store/apps/details?id=com.hellobrigit.Brigit',\n",
       " '/store/apps/details?id=com.chippercash',\n",
       " '/store/apps/details?id=com.klovercredit.android_app',\n",
       " '/store/apps/details?id=com.prosper.borrower.mobile',\n",
       " '/store/apps/details?id=com.thrivos.cash1',\n",
       " '/store/apps/details?id=com.loandepot.loandepotmobile',\n",
       " '/store/apps/details?id=com.quick.cash.advance.loans',\n",
       " '/store/apps/details?id=com.money.loans.cash.app',\n",
       " '/store/apps/details?id=com.useline.line',\n",
       " '/store/apps/details?id=com.lenmoinc.lenmo',\n",
       " '/store/apps/details?id=com.solofunds',\n",
       " '/store/apps/details?id=com.payday.advance.money.loan',\n",
       " '/store/apps/details?id=com.payday.advance.borrow.money.app',\n",
       " '/store/apps/details?id=borrow.money.cash.advance.app',\n",
       " '/store/apps/details?id=com.personal.loans.personal_loans',\n",
       " '/store/apps/details?id=com.quick.cash.advance.loans',\n",
       " '/store/apps/details?id=com.prosper.borrower.mobile',\n",
       " '/store/apps/details?id=com.instant.cash.advance.loan.app',\n",
       " '/store/apps/details?id=finance.empower',\n",
       " '/store/apps/details?id=com.instantly.bils.rent.pay.loan',\n",
       " '/store/apps/details?id=com.solofunds',\n",
       " '/store/apps/details?id=com.borrow.money.app.payday.loans',\n",
       " '/store/apps/details?id=com.loandepot.loandepotmobile',\n",
       " '/store/apps/details?id=com.cmafaiu.exprebucs',\n",
       " '/store/apps/details?id=com.loan.app.cash.advance',\n",
       " '/store/apps/details?id=com.payday.advance.borrow.money.app',\n",
       " '/store/apps/details?id=com.payday.advance.loan.money.app',\n",
       " '/store/apps/details?id=com.quick.loans.online.instant.money',\n",
       " '/store/apps/details?id=com.prosper.borrower.mobile',\n",
       " '/store/apps/details?id=com.instant.cash.advance.loan.app',\n",
       " '/store/apps/details?id=com.solofunds',\n",
       " '/store/apps/details?id=com.quick.cash.advance.loans',\n",
       " '/store/apps/details?id=finance.empower',\n",
       " '/store/apps/details?id=com.hellobrigit.Brigit',\n",
       " '/store/apps/details?id=com.moneylion',\n",
       " '/store/apps/details?id=com.borrow.money.app.payday.loans',\n",
       " '/store/apps/details?id=com.personal.loans.personal_loans',\n",
       " '/store/apps/details?id=io.floatme.floatmeapp',\n",
       " '/store/apps/details?id=com.useline.line',\n",
       " '/store/apps/details?id=com.creditgenie.app',\n",
       " '/store/apps/details?id=com.instantly.bils.rent.pay.loan',\n",
       " '/store/apps/details?id=com.quick.loans.online.instant.money',\n",
       " '/store/apps/details?id=com.cmafaiu.exprebucs',\n",
       " '/store/apps/details?id=com.payday.advance.borrow.money.app',\n",
       " '/store/apps/details?id=com.lenmoinc.lenmo',\n",
       " '/store/apps/details?id=com.arrofinance.production',\n",
       " '/store/apps/details?id=com.money.loans.cash.app',\n",
       " '/store/apps/details?id=com.creditkarma.mobile',\n",
       " '/store/apps/details?id=com.klovercredit.android_app',\n",
       " '/store/apps/details?id=com.loandepot.loandepotmobile',\n",
       " '/store/apps/details?id=com.messapps.vola',\n",
       " '/store/apps/details?id=com.finance.extloans',\n",
       " '/store/apps/details?id=com.affirm.central',\n",
       " '/store/apps/details?id=com.activehours',\n",
       " '/store/apps/details?id=bhct.coolCredit',\n",
       " '/store/apps/details?id=com.payday.advance.money.loan',\n",
       " '/store/apps/details?id=com.meetcleo.cleo',\n",
       " '/store/apps/details?id=com.lend.me',\n",
       " '/store/apps/details?id=com.instant.cash.advance.loan.app',\n",
       " '/store/apps/details?id=com.solofunds',\n",
       " '/store/apps/details?id=com.hellobrigit.Brigit',\n",
       " '/store/apps/details?id=com.borrow.money.app.payday.loans',\n",
       " '/store/apps/details?id=finance.empower',\n",
       " '/store/apps/details?id=com.quick.cash.advance.loans',\n",
       " '/store/apps/details?id=com.creditgenie.app',\n",
       " '/store/apps/details?id=com.moneylion',\n",
       " '/store/apps/details?id=com.prosper.borrower.mobile',\n",
       " '/store/apps/details?id=io.floatme.floatmeapp',\n",
       " '/store/apps/details?id=com.useline.line',\n",
       " '/store/apps/details?id=com.personal.loans.personal_loans',\n",
       " '/store/apps/details?id=com.instantly.bils.rent.pay.loan',\n",
       " '/store/apps/details?id=com.loandepot.loandepotmobile',\n",
       " '/store/apps/details?id=com.dovenmuehle',\n",
       " '/store/apps/details?id=com.personal.loans.personal_loans',\n",
       " '/store/apps/details?id=com.loandepot.loandepotmobile',\n",
       " '/store/apps/details?id=com.prosper.borrower.mobile',\n",
       " '/store/apps/details?id=com.solofunds',\n",
       " '/store/apps/details?id=com.quick.cash.advance.loans',\n",
       " '/store/apps/details?id=com.instantly.bils.rent.pay.loan',\n",
       " '/store/apps/details?id=com.borrow.money.app.payday.loans',\n",
       " '/store/apps/details?id=com.quickenloans.myql',\n",
       " '/store/apps/details?id=com.omegacreditunion.omegaloans',\n",
       " '/store/apps/details?id=com.pigeonloans.app',\n",
       " '/store/apps/details?id=com.thrivos.cash1',\n",
       " '/store/apps/details?id=finance.empower',\n",
       " '/store/apps/details?id=com.payday.advance.loan.money.app',\n",
       " '/store/apps/details?id=com.finance.extloans',\n",
       " '/store/apps/details?id=com.rhi.rockethq',\n",
       " '/store/apps/details?id=com.ltmoneycenter_android.PROD',\n",
       " '/store/apps/details?id=com.tonik.mobile',\n",
       " '/store/apps/details?id=com.creditkarma.mobile',\n",
       " '/store/apps/details?id=com.instant.cash.advance.loan.app',\n",
       " '/store/apps/details?id=com.newamericanfunding.newamericanfunding.v2',\n",
       " '/store/apps/details?id=com.cmafaiu.exprebucs',\n",
       " '/store/apps/details?id=com.truebill',\n",
       " '/store/apps/details?id=com.numidatech.numida',\n",
       " '/store/apps/details?id=com.loancareapp.LoanCareApp.Prod',\n",
       " '/store/apps/details?id=com.money.loans.cash.app',\n",
       " '/store/apps/details?id=org.altruist.BajajExperia',\n",
       " '/store/apps/details?id=com.loan.app.cash.advance',\n",
       " '/store/apps/details?id=com.springleaf.mobile',\n",
       " '/store/apps/details?id=au.com.up.money',\n",
       " '/store/apps/details?id=com.solofunds',\n",
       " '/store/apps/details?id=com.quick.cash.advance.loans',\n",
       " '/store/apps/details?id=com.borrow.money.app.payday.loans',\n",
       " '/store/apps/details?id=com.prosper.borrower.mobile',\n",
       " '/store/apps/details?id=com.loandepot.loandepotmobile',\n",
       " '/store/apps/details?id=com.carvana.carvana',\n",
       " '/store/apps/details?id=com.personal.loans.personal_loans',\n",
       " '/store/apps/details?id=io.floatme.floatmeapp',\n",
       " '/store/apps/details?id=com.useline.line',\n",
       " '/store/apps/details?id=com.instant.cash.advance.loan.app',\n",
       " '/store/apps/details?id=com.instantly.bils.rent.pay.loan',\n",
       " '/store/apps/details?id=com.cmafaiu.exprebucs',\n",
       " '/store/apps/details?id=com.pentanasolutions.loancar',\n",
       " '/store/apps/details?id=com.money.loans.cash.app',\n",
       " '/store/apps/details?id=com.fiftyfin.app',\n",
       " '/store/apps/details?id=in.indwealth',\n",
       " '/store/apps/details?id=com.smallcase.android',\n",
       " '/store/apps/details?id=com.mirae.investor.app',\n",
       " '/store/apps/details?id=com.iw.imperialmoney',\n",
       " '/store/apps/details?id=com.personal.loans.personal_loans',\n",
       " '/store/apps/details?id=com.solofunds',\n",
       " '/store/apps/details?id=com.mutualfund.now.app',\n",
       " '/store/apps/details?id=com.q2e.firsttradeunionbank3351.mobile.production',\n",
       " '/store/apps/details?id=com.loandepot.loandepotmobile',\n",
       " '/store/apps/details?id=io.assetplus',\n",
       " '/store/apps/details?id=com.moneylion',\n",
       " '/store/apps/details?id=com.betterment',\n",
       " '/store/apps/details?id=com.hsl.investright',\n",
       " '/store/apps/details?id=com.fundsindia',\n",
       " '/store/apps/details?id=com.fidelity.android',\n",
       " '/store/apps/details?id=com.hdfcfund.investor',\n",
       " '/store/apps/details?id=com.acorns.android',\n",
       " '/store/apps/details?id=com.dsp.invest',\n",
       " '/store/apps/details?id=com.borrow.money.app.payday.loans',\n",
       " '/store/apps/details?id=com.prosper.borrower.mobile',\n",
       " '/store/apps/details?id=com.fisomni.prod.mutualofamerica',\n",
       " '/store/apps/details?id=com.sscinc.retirement.c3ec0f57878e45a0be784ae98063528a',\n",
       " '/store/apps/details?id=com.mysiponline',\n",
       " '/store/apps/details?id=com.prosper.borrower.mobile',\n",
       " '/store/apps/details?id=com.instant.cash.advance.loan.app',\n",
       " '/store/apps/details?id=com.loandepot.loandepotmobile',\n",
       " '/store/apps/details?id=com.quick.cash.advance.loans',\n",
       " '/store/apps/details?id=finance.empower',\n",
       " '/store/apps/details?id=vopo.easyhomefinance',\n",
       " '/store/apps/details?id=com.hellobrigit.Brigit',\n",
       " '/store/apps/details?id=com.lenmoinc.lenmo',\n",
       " '/store/apps/details?id=com.omegacreditunion.omegaloans',\n",
       " '/store/apps/details?id=com.personal.loans.personal_loans',\n",
       " '/store/apps/details?id=com.solofunds',\n",
       " '/store/apps/details?id=com.quick.cash.advance.loans',\n",
       " '/store/apps/details?id=com.lenmoinc.lenmo',\n",
       " '/store/apps/details?id=com.personal.loans.personal_loans',\n",
       " '/store/apps/details?id=com.borrow.money.app.payday.loans',\n",
       " '/store/apps/details?id=com.prosper.borrower.mobile',\n",
       " '/store/apps/details?id=com.instant.cash.advance.loan.app',\n",
       " '/store/apps/details?id=com.ltmoneycenter_android.PROD',\n",
       " '/store/apps/details?id=finance.empower',\n",
       " '/store/apps/details?id=com.loandepot.loandepotmobile',\n",
       " '/store/apps/details?id=com.hellobrigit.Brigit',\n",
       " '/store/apps/details?id=io.floatme.floatmeapp',\n",
       " '/store/apps/details?id=com.omegacreditunion.omegaloans',\n",
       " '/store/apps/details?id=com.cmafaiu.exprebucs',\n",
       " '/store/apps/details?id=com.instant.cash.advance.loan.app',\n",
       " '/store/apps/details?id=com.prosper.borrower.mobile',\n",
       " '/store/apps/details?id=com.klovercredit.android_app',\n",
       " '/store/apps/details?id=com.personal.loans.personal_loans',\n",
       " '/store/apps/details?id=finance.empower',\n",
       " '/store/apps/details?id=com.hellobrigit.Brigit',\n",
       " '/store/apps/details?id=com.creditgenie.app',\n",
       " '/store/apps/details?id=com.quick.cash.advance.loans',\n",
       " '/store/apps/details?id=com.quick.loans.online.instant.money',\n",
       " '/store/apps/details?id=com.lenmoinc.lenmo',\n",
       " '/store/apps/details?id=com.money.loans.cash.app',\n",
       " '/store/apps/details?id=com.solofunds',\n",
       " '/store/apps/details?id=com.cmafaiu.exprebucs',\n",
       " '/store/apps/details?id=com.moneylion',\n",
       " '/store/apps/details?id=com.meetcleo.cleo',\n",
       " '/store/apps/details?id=com.loandepot.loandepotmobile',\n",
       " '/store/apps/details?id=com.activehours',\n",
       " '/store/apps/details?id=com.instantly.bils.rent.pay.loan',\n",
       " '/store/apps/details?id=com.useline.line',\n",
       " '/store/apps/details?id=com.payday.advance.loan.money.app',\n",
       " '/store/apps/details?id=com.clerkie.clerkieandroidapp',\n",
       " '/store/apps/details?id=com.finance.extloans',\n",
       " '/store/apps/details?id=com.finance.paydayloansnearme',\n",
       " '/store/apps/details?id=com.ltmoneycenter_android.PROD',\n",
       " '/store/apps/details?id=com.zirtue.app',\n",
       " '/store/apps/details?id=io.floatme.floatmeapp',\n",
       " '/store/apps/details?id=com.borrow.money.app.payday.loans',\n",
       " '/store/apps/details?id=money.loan.app.instant.cash',\n",
       " '/store/apps/details?id=com.borrow.money.app.payday.loans',\n",
       " '/store/apps/details?id=com.quick.cash.advance.loans',\n",
       " '/store/apps/details?id=com.solofunds',\n",
       " '/store/apps/details?id=io.floatme.floatmeapp',\n",
       " '/store/apps/details?id=com.prosper.borrower.mobile',\n",
       " '/store/apps/details?id=com.instantly.bils.rent.pay.loan',\n",
       " '/store/apps/details?id=com.instant.cash.advance.loan.app',\n",
       " '/store/apps/details?id=com.personal.loans.personal_loans',\n",
       " '/store/apps/details?id=com.hellobrigit.Brigit',\n",
       " '/store/apps/details?id=com.fairlend.fairloans',\n",
       " '/store/apps/details?id=com.payday.advance.borrow.money.app',\n",
       " '/store/apps/details?id=com.lend.me',\n",
       " '/store/apps/details?id=com.payday.cash.advance.loans',\n",
       " '/store/apps/details?id=com.lenmoinc.lenmo',\n",
       " '/store/apps/details?id=com.loandepot.loandepotmobile',\n",
       " '/store/apps/details?id=com.money.loans.cash.app',\n",
       " '/store/apps/details?id=com.payday.advance.money.loan',\n",
       " '/store/apps/details?id=com.payday.advance.loan.money.app',\n",
       " '/store/apps/details?id=com.omegacreditunion.omegaloans',\n",
       " '/store/apps/details?id=com.quick.loans.online.instant.money',\n",
       " '/store/apps/details?id=com.creditgenie.app',\n",
       " '/store/apps/details?id=com.money.advance.payday.loan',\n",
       " '/store/apps/details?id=com.cmafaiu.exprebucs',\n",
       " '/store/apps/details?id=finance.empower',\n",
       " '/store/apps/details?id=cashlender.app',\n",
       " '/store/apps/details?id=com.moneylion',\n",
       " '/store/apps/details?id=com.ltmoneycenter_android.PROD',\n",
       " '/store/apps/details?id=com.loan.app.cash.advance',\n",
       " '/store/apps/details?id=com.thrivos.cash1',\n",
       " '/store/apps/details?id=com.useline.line',\n",
       " '/store/apps/details?id=com.personal.loan.authority',\n",
       " '/store/apps/details?id=com.arrofinance.production',\n",
       " '/store/apps/details?id=bhct.coolCredit',\n",
       " '/store/apps/details?id=cash.advance.app.borrow.money.instantly',\n",
       " '/store/apps/details?id=money.loan.app.instant.cash',\n",
       " '/store/apps/details?id=com.instantlyloans.borrowmoney',\n",
       " '/store/apps/details?id=com.goodkredit.myapplication.paydaytoday',\n",
       " '/store/apps/details?id=com.kikoff',\n",
       " '/store/apps/details?id=payday.advance.paycheck.cash.loans',\n",
       " '/store/apps/details?id=com.exto.arrow',\n",
       " '/store/apps/details?id=au.com.up.money',\n",
       " '/store/apps/details?id=com.fairercredit.omegaloans',\n",
       " '/store/apps/details?id=com.activehours',\n",
       " '/store/apps/details?id=com.fundbox.mobile',\n",
       " '/store/apps/details?id=com.finance.extloans',\n",
       " '/store/apps/details?id=com.numidatech.numida',\n",
       " '/store/apps/details?id=com.truebill',\n",
       " '/store/apps/details?id=com.meetcleo.cleo',\n",
       " '/store/apps/details?id=com.enova.cashnet',\n",
       " '/store/apps/details?id=com.fairercredit.readyloans']"
      ]
     },
     "execution_count": 22,
     "metadata": {},
     "output_type": "execute_result"
    }
   ],
   "source": [
    "urls"
   ]
  },
  {
   "cell_type": "code",
   "execution_count": 28,
   "id": "c2204d9a-3716-496e-a65e-9132f3d0b147",
   "metadata": {},
   "outputs": [
    {
     "name": "stdout",
     "output_type": "stream",
     "text": [
      "['com.instant.cash.advance.loan.app', 'io.floatme.floatmeapp', 'com.useline.line', 'com.activehours', 'com.dave', 'com.DailyPay.DailyPay', 'finance.empower', 'com.moneylion', 'com.hellobrigit.Brigit', 'com.meetcleo.cleo', 'com.varomoney.bank', 'org.altruist.BajajExperia', 'com.meetalbert', 'com.ltmoneycenter_android.PROD', 'com.ProActMobile', 'com.lenmoinc.lenmo', 'com.afterpaymobile.us', 'com.solofunds', 'com.creditgenie.app', 'com.truebill', 'com.springleaf.mobile', 'us.rain.app', 'com.instant.cash.advance.loan.app', 'io.floatme.floatmeapp', 'com.prosper.borrower.mobile', 'com.dave', 'com.moneylion', 'finance.empower', 'com.hellobrigit.Brigit', 'com.activehours', 'com.meetcleo.cleo', 'com.lenmoinc.lenmo', 'com.useline.line', 'com.ltmoneycenter_android.PROD', 'com.creditkarma.mobile', 'com.creditgenie.app', 'us.rain.app', 'com.afterpaymobile.us', 'com.truebill', 'com.affirm.central', 'com.DailyPay.DailyPay', 'com.solofunds', 'org.altruist.BajajExperia', 'com.varomoney.bank', 'com.adp.wiselymobile', 'com.meetalbert', 'com.quadpay.quadpay', 'com.klovercredit.android_app', 'com.sezzle.sezzlemobile', 'com.even.harmony', 'com.loandepot.loandepotmobile', 'com.kikoff', 'io.floatme.floatmeapp', 'com.instant.cash.advance.loan.app', 'com.moneylion', 'com.klovercredit.android_app', 'com.activehours', 'com.meetcleo.cleo', 'finance.empower', 'com.hellobrigit.Brigit', 'com.dave', 'com.DailyPay.DailyPay', 'com.meetalbert', 'com.useline.line', 'com.lenmoinc.lenmo', 'com.ltmoneycenter_android.PROD', 'com.creditgenie.app', 'us.rain.app', 'digit.android', 'com.prosper.borrower.mobile', 'com.truebill', 'com.solofunds', 'com.ProActMobile', 'com.current.app', 'org.altruist.BajajExperia', 'com.affirm.central', 'com.afterpaymobile.us', 'com.dave', 'com.adp.wiselymobile', 'com.DailyPay.DailyPay', 'com.quadpay.quadpay', 'com.meetcleo.cleo', 'com.hellobrigit.Brigit', 'com.sezzle.sezzlemobile', 'com.even.harmony', 'com.creditkarma.mobile', 'app.tabby.client', 'br.gov.caixa.habitacao', 'uz.paymart.paymart_mobile', 'com.wooricard.smartapp', 'com.klovercredit.android_app', 'com.addimobile', 'com.truebill', 'com.creditgenie.app', 'com.navyfederal.android', 'com.cargurus.mobileApp', 'com.instant.cash.advance.loan.app', 'com.instant.cash.advance.loan.app', 'com.prosper.borrower.mobile', 'com.hellobrigit.Brigit', 'com.creditgenie.app', 'finance.empower', 'com.moneylion', 'io.floatme.floatmeapp', 'com.solofunds', 'com.borrow.money.app.payday.loans', 'com.quick.cash.advance.loans', 'com.personal.loans.personal_loans', 'com.klovercredit.android_app', 'com.activehours', 'com.meetcleo.cleo', 'com.creditkarma.mobile', 'com.experian.android', 'com.creditsesame', 'com.myfico', 'com.kikoff', 'com.creditonebank.mobile', 'com.dovly.app', 'com.hellobrigit.Brigit', 'com.arrofinance.production', 'com.selflender.thor', 'com.capitalone.credittracker', 'finance.empower', 'com.mobilecreditcards', 'com.onedebit.chime', 'com.konylabs.capitalone', 'com.wallethub.mywallet', 'com.truebill', 'com.springleaf.omf.cards.prod', 'com.affirm.central', 'com.creditgenie.app', 'com.transunion.TransUnion', 'com.growcredit.prod', 'com.meetcleo.cleo', 'com.moneylion', 'com.varomoney.bank', 'bhct.coolCredit', 'com.instant.cash.advance.loan.app', 'io.floatme.floatmeapp', 'com.useline.line', 'com.creditgenie.app', 'com.activehours', 'finance.empower', 'com.meetcleo.cleo', 'com.hellobrigit.Brigit', 'com.moneylion', 'com.dave', 'com.lenmoinc.lenmo', 'com.klovercredit.android_app', 'com.prosper.borrower.mobile', 'us.rain.app', 'com.loandepot.loandepotmobile', 'com.solofunds', 'com.chippercash', 'com.b9.app', 'com.ProActMobile', 'com.meetalbert', 'com.ltmoneycenter_android.PROD', 'com.DailyPay.DailyPay', 'com.branchmessenger', 'com.instant.cash.advance.loan.app', 'io.floatme.floatmeapp', 'com.creditgenie.app', 'com.klovercredit.android_app', 'com.hellobrigit.Brigit', 'com.moneylion', 'com.borrow.money.app.payday.loans', 'com.money.loans.cash.app', 'com.activehours', 'finance.empower', 'com.meetcleo.cleo', 'com.useline.line', 'com.prosper.borrower.mobile', 'com.loandepot.loandepotmobile', 'com.thrivos.cash1', 'com.quick.cash.advance.loans', 'borrow.money.cash.advance.app', 'com.b9.app', 'com.geraldwallet', 'com.wolfpackdigital.cashli', 'com.quick.loans.online.instant.money', 'com.lenmoinc.lenmo', 'com.DailyPay.DailyPay', 'com.payday.advance.borrow.money.app', 'com.instant.cash.advance.loan.app', 'com.creditgenie.app', 'io.floatme.floatmeapp', 'com.klovercredit.android_app', 'com.activehours', 'com.meetcleo.cleo', 'com.moneylion', 'com.hellobrigit.Brigit', 'finance.empower', 'com.borrow.money.app.payday.loans', 'com.prosper.borrower.mobile', 'com.useline.line', 'com.thrivos.cash1', 'com.lenmoinc.lenmo', 'com.instant.cash.advance.loan.app', 'com.creditgenie.app', 'io.floatme.floatmeapp', 'com.borrow.money.app.payday.loans', 'com.activehours', 'com.meetcleo.cleo', 'com.moneylion', 'finance.empower', 'com.squareup.cash', 'com.hellobrigit.Brigit', 'com.chippercash', 'com.klovercredit.android_app', 'com.prosper.borrower.mobile', 'com.thrivos.cash1', 'com.loandepot.loandepotmobile', 'com.quick.cash.advance.loans', 'com.money.loans.cash.app', 'com.useline.line', 'com.lenmoinc.lenmo', 'com.solofunds', 'com.payday.advance.money.loan', 'com.payday.advance.borrow.money.app', 'borrow.money.cash.advance.app', 'com.personal.loans.personal_loans', 'com.quick.cash.advance.loans', 'com.prosper.borrower.mobile', 'com.instant.cash.advance.loan.app', 'finance.empower', 'com.instantly.bils.rent.pay.loan', 'com.solofunds', 'com.borrow.money.app.payday.loans', 'com.loandepot.loandepotmobile', 'com.cmafaiu.exprebucs', 'com.loan.app.cash.advance', 'com.payday.advance.borrow.money.app', 'com.payday.advance.loan.money.app', 'com.quick.loans.online.instant.money', 'com.prosper.borrower.mobile', 'com.instant.cash.advance.loan.app', 'com.solofunds', 'com.quick.cash.advance.loans', 'finance.empower', 'com.hellobrigit.Brigit', 'com.moneylion', 'com.borrow.money.app.payday.loans', 'com.personal.loans.personal_loans', 'io.floatme.floatmeapp', 'com.useline.line', 'com.creditgenie.app', 'com.instantly.bils.rent.pay.loan', 'com.quick.loans.online.instant.money', 'com.cmafaiu.exprebucs', 'com.payday.advance.borrow.money.app', 'com.lenmoinc.lenmo', 'com.arrofinance.production', 'com.money.loans.cash.app', 'com.creditkarma.mobile', 'com.klovercredit.android_app', 'com.loandepot.loandepotmobile', 'com.messapps.vola', 'com.finance.extloans', 'com.affirm.central', 'com.activehours', 'bhct.coolCredit', 'com.payday.advance.money.loan', 'com.meetcleo.cleo', 'com.lend.me', 'com.instant.cash.advance.loan.app', 'com.solofunds', 'com.hellobrigit.Brigit', 'com.borrow.money.app.payday.loans', 'finance.empower', 'com.quick.cash.advance.loans', 'com.creditgenie.app', 'com.moneylion', 'com.prosper.borrower.mobile', 'io.floatme.floatmeapp', 'com.useline.line', 'com.personal.loans.personal_loans', 'com.instantly.bils.rent.pay.loan', 'com.loandepot.loandepotmobile', 'com.dovenmuehle', 'com.personal.loans.personal_loans', 'com.loandepot.loandepotmobile', 'com.prosper.borrower.mobile', 'com.solofunds', 'com.quick.cash.advance.loans', 'com.instantly.bils.rent.pay.loan', 'com.borrow.money.app.payday.loans', 'com.quickenloans.myql', 'com.omegacreditunion.omegaloans', 'com.pigeonloans.app', 'com.thrivos.cash1', 'finance.empower', 'com.payday.advance.loan.money.app', 'com.finance.extloans', 'com.rhi.rockethq', 'com.ltmoneycenter_android.PROD', 'com.tonik.mobile', 'com.creditkarma.mobile', 'com.instant.cash.advance.loan.app', 'com.newamericanfunding.newamericanfunding.v2', 'com.cmafaiu.exprebucs', 'com.truebill', 'com.numidatech.numida', 'com.loancareapp.LoanCareApp.Prod', 'com.money.loans.cash.app', 'org.altruist.BajajExperia', 'com.loan.app.cash.advance', 'com.springleaf.mobile', 'au.com.up.money', 'com.solofunds', 'com.quick.cash.advance.loans', 'com.borrow.money.app.payday.loans', 'com.prosper.borrower.mobile', 'com.loandepot.loandepotmobile', 'com.carvana.carvana', 'com.personal.loans.personal_loans', 'io.floatme.floatmeapp', 'com.useline.line', 'com.instant.cash.advance.loan.app', 'com.instantly.bils.rent.pay.loan', 'com.cmafaiu.exprebucs', 'com.pentanasolutions.loancar', 'com.money.loans.cash.app', 'com.fiftyfin.app', 'in.indwealth', 'com.smallcase.android', 'com.mirae.investor.app', 'com.iw.imperialmoney', 'com.personal.loans.personal_loans', 'com.solofunds', 'com.mutualfund.now.app', 'com.q2e.firsttradeunionbank3351.mobile.production', 'com.loandepot.loandepotmobile', 'io.assetplus', 'com.moneylion', 'com.betterment', 'com.hsl.investright', 'com.fundsindia', 'com.fidelity.android', 'com.hdfcfund.investor', 'com.acorns.android', 'com.dsp.invest', 'com.borrow.money.app.payday.loans', 'com.prosper.borrower.mobile', 'com.fisomni.prod.mutualofamerica', 'com.sscinc.retirement.c3ec0f57878e45a0be784ae98063528a', 'com.mysiponline', 'com.prosper.borrower.mobile', 'com.instant.cash.advance.loan.app', 'com.loandepot.loandepotmobile', 'com.quick.cash.advance.loans', 'finance.empower', 'vopo.easyhomefinance', 'com.hellobrigit.Brigit', 'com.lenmoinc.lenmo', 'com.omegacreditunion.omegaloans', 'com.personal.loans.personal_loans', 'com.solofunds', 'com.quick.cash.advance.loans', 'com.lenmoinc.lenmo', 'com.personal.loans.personal_loans', 'com.borrow.money.app.payday.loans', 'com.prosper.borrower.mobile', 'com.instant.cash.advance.loan.app', 'com.ltmoneycenter_android.PROD', 'finance.empower', 'com.loandepot.loandepotmobile', 'com.hellobrigit.Brigit', 'io.floatme.floatmeapp', 'com.omegacreditunion.omegaloans', 'com.cmafaiu.exprebucs', 'com.instant.cash.advance.loan.app', 'com.prosper.borrower.mobile', 'com.klovercredit.android_app', 'com.personal.loans.personal_loans', 'finance.empower', 'com.hellobrigit.Brigit', 'com.creditgenie.app', 'com.quick.cash.advance.loans', 'com.quick.loans.online.instant.money', 'com.lenmoinc.lenmo', 'com.money.loans.cash.app', 'com.solofunds', 'com.cmafaiu.exprebucs', 'com.moneylion', 'com.meetcleo.cleo', 'com.loandepot.loandepotmobile', 'com.activehours', 'com.instantly.bils.rent.pay.loan', 'com.useline.line', 'com.payday.advance.loan.money.app', 'com.clerkie.clerkieandroidapp', 'com.finance.extloans', 'com.finance.paydayloansnearme', 'com.ltmoneycenter_android.PROD', 'com.zirtue.app', 'io.floatme.floatmeapp', 'com.borrow.money.app.payday.loans', 'money.loan.app.instant.cash', 'com.borrow.money.app.payday.loans', 'com.quick.cash.advance.loans', 'com.solofunds', 'io.floatme.floatmeapp', 'com.prosper.borrower.mobile', 'com.instantly.bils.rent.pay.loan', 'com.instant.cash.advance.loan.app', 'com.personal.loans.personal_loans', 'com.hellobrigit.Brigit', 'com.fairlend.fairloans', 'com.payday.advance.borrow.money.app', 'com.lend.me', 'com.payday.cash.advance.loans', 'com.lenmoinc.lenmo', 'com.loandepot.loandepotmobile', 'com.money.loans.cash.app', 'com.payday.advance.money.loan', 'com.payday.advance.loan.money.app', 'com.omegacreditunion.omegaloans', 'com.quick.loans.online.instant.money', 'com.creditgenie.app', 'com.money.advance.payday.loan', 'com.cmafaiu.exprebucs', 'finance.empower', 'cashlender.app', 'com.moneylion', 'com.ltmoneycenter_android.PROD', 'com.loan.app.cash.advance', 'com.thrivos.cash1', 'com.useline.line', 'com.personal.loan.authority', 'com.arrofinance.production', 'bhct.coolCredit', 'cash.advance.app.borrow.money.instantly', 'money.loan.app.instant.cash', 'com.instantlyloans.borrowmoney', 'com.goodkredit.myapplication.paydaytoday', 'com.kikoff', 'payday.advance.paycheck.cash.loans', 'com.exto.arrow', 'au.com.up.money', 'com.fairercredit.omegaloans', 'com.activehours', 'com.fundbox.mobile', 'com.finance.extloans', 'com.numidatech.numida', 'com.truebill', 'com.meetcleo.cleo', 'com.enova.cashnet', 'com.fairercredit.readyloans']\n"
     ]
    }
   ],
   "source": [
    "app_ids = [url.split('id=')[1] for url in urls if 'id=' in url]\n",
    "print(app_ids)"
   ]
  },
  {
   "cell_type": "code",
   "execution_count": 53,
   "id": "d9f37e2f-66b8-420c-8c6f-5fd299cd87b5",
   "metadata": {},
   "outputs": [
    {
     "name": "stdout",
     "output_type": "stream",
     "text": [
      "error\n",
      "error\n",
      "error\n",
      "#com.activehours 15.23.apk\n"
     ]
    },
    {
     "name": "stderr",
     "output_type": "stream",
     "text": [
      "100%|█████████████████████████████████████████████████████████████████████████████| 39.6M/39.6M [00:03<00:00, 11.1MB/s]\n"
     ]
    },
    {
     "name": "stdout",
     "output_type": "stream",
     "text": [
      "#com.dave 3.18.0.apk\n"
     ]
    },
    {
     "name": "stderr",
     "output_type": "stream",
     "text": [
      "100%|███████████████████████████████████████████████████████████████████████████████| 230M/230M [00:12<00:00, 17.8MB/s]\n"
     ]
    },
    {
     "name": "stdout",
     "output_type": "stream",
     "text": [
      "#com.DailyPay.DailyPay 12.1.0.apk\n"
     ]
    },
    {
     "name": "stderr",
     "output_type": "stream",
     "text": [
      "100%|█████████████████████████████████████████████████████████████████████████████| 69.2M/69.2M [00:07<00:00, 9.73MB/s]\n"
     ]
    },
    {
     "name": "stdout",
     "output_type": "stream",
     "text": [
      "#finance.empower 4.5.2.121.apk\n"
     ]
    },
    {
     "name": "stderr",
     "output_type": "stream",
     "text": [
      "100%|█████████████████████████████████████████████████████████████████████████████| 46.7M/46.7M [00:03<00:00, 11.7MB/s]\n"
     ]
    },
    {
     "name": "stdout",
     "output_type": "stream",
     "text": [
      "error\n",
      "#com.hellobrigit.Brigit 522.0.apk\n"
     ]
    },
    {
     "name": "stderr",
     "output_type": "stream",
     "text": [
      "100%|███████████████████████████████████████████████████████████████████████████████| 121M/121M [00:09<00:00, 12.8MB/s]\n"
     ]
    },
    {
     "name": "stdout",
     "output_type": "stream",
     "text": [
      "#com.meetcleo.cleo 1.211.0.apk\n"
     ]
    },
    {
     "name": "stderr",
     "output_type": "stream",
     "text": [
      "100%|███████████████████████████████████████████████████████████████████████████████| 160M/160M [00:11<00:00, 14.3MB/s]\n"
     ]
    },
    {
     "name": "stdout",
     "output_type": "stream",
     "text": [
      "error\n",
      "error\n",
      "#com.meetalbert 9.0.24.apk\n"
     ]
    },
    {
     "name": "stderr",
     "output_type": "stream",
     "text": [
      "100%|███████████████████████████████████████████████████████████████████████████████| 200M/200M [00:11<00:00, 17.8MB/s]\n"
     ]
    },
    {
     "name": "stdout",
     "output_type": "stream",
     "text": [
      "#com.ltmoneycenter_android.PROD 3.35.apk\n"
     ]
    },
    {
     "name": "stderr",
     "output_type": "stream",
     "text": [
      "100%|█████████████████████████████████████████████████████████████████████████████| 16.3M/16.3M [00:01<00:00, 8.58MB/s]\n"
     ]
    },
    {
     "name": "stdout",
     "output_type": "stream",
     "text": [
      "#com.ProActMobile 1.0.31.apk\n"
     ]
    },
    {
     "name": "stderr",
     "output_type": "stream",
     "text": [
      "100%|█████████████████████████████████████████████████████████████████████████████| 4.33M/4.33M [00:01<00:00, 3.97MB/s]\n"
     ]
    },
    {
     "name": "stdout",
     "output_type": "stream",
     "text": [
      "error\n",
      "#com.afterpaymobile.us 1.11.2.apk\n"
     ]
    },
    {
     "name": "stderr",
     "output_type": "stream",
     "text": [
      "100%|█████████████████████████████████████████████████████████████████████████████| 28.5M/28.5M [00:03<00:00, 7.72MB/s]\n"
     ]
    },
    {
     "name": "stdout",
     "output_type": "stream",
     "text": [
      "error\n",
      "error\n",
      "#com.truebill 6.22.3.apk\n"
     ]
    },
    {
     "name": "stderr",
     "output_type": "stream",
     "text": [
      "100%|██████████████████████████████████████████████████████████████████████████████| 58.7k/58.7k [00:00<00:00, 340kB/s]\n"
     ]
    },
    {
     "name": "stdout",
     "output_type": "stream",
     "text": [
      "error\n",
      "error\n",
      "error\n",
      "error\n",
      "error\n",
      "#com.dave 3.18.0.apk\n"
     ]
    },
    {
     "name": "stderr",
     "output_type": "stream",
     "text": [
      "100%|███████████████████████████████████████████████████████████████████████████████| 230M/230M [00:16<00:00, 14.1MB/s]\n"
     ]
    },
    {
     "name": "stdout",
     "output_type": "stream",
     "text": [
      "error\n",
      "#finance.empower 4.5.2.121.apk\n"
     ]
    },
    {
     "name": "stderr",
     "output_type": "stream",
     "text": [
      "100%|█████████████████████████████████████████████████████████████████████████████| 46.7M/46.7M [00:02<00:00, 15.6MB/s]\n"
     ]
    },
    {
     "name": "stdout",
     "output_type": "stream",
     "text": [
      "#com.hellobrigit.Brigit 522.0.apk\n"
     ]
    },
    {
     "name": "stderr",
     "output_type": "stream",
     "text": [
      "100%|███████████████████████████████████████████████████████████████████████████████| 121M/121M [00:05<00:00, 22.5MB/s]\n"
     ]
    },
    {
     "name": "stdout",
     "output_type": "stream",
     "text": [
      "#com.activehours 15.23.apk\n"
     ]
    },
    {
     "name": "stderr",
     "output_type": "stream",
     "text": [
      "100%|█████████████████████████████████████████████████████████████████████████████| 39.6M/39.6M [00:02<00:00, 15.6MB/s]\n"
     ]
    },
    {
     "name": "stdout",
     "output_type": "stream",
     "text": [
      "#com.meetcleo.cleo 1.211.0.apk\n"
     ]
    },
    {
     "name": "stderr",
     "output_type": "stream",
     "text": [
      "100%|███████████████████████████████████████████████████████████████████████████████| 160M/160M [00:07<00:00, 21.2MB/s]\n"
     ]
    },
    {
     "name": "stdout",
     "output_type": "stream",
     "text": [
      "error\n",
      "error\n",
      "#com.ltmoneycenter_android.PROD 3.35.apk\n"
     ]
    },
    {
     "name": "stderr",
     "output_type": "stream",
     "text": [
      "100%|█████████████████████████████████████████████████████████████████████████████| 16.3M/16.3M [00:01<00:00, 10.4MB/s]\n"
     ]
    },
    {
     "name": "stdout",
     "output_type": "stream",
     "text": [
      "#com.creditkarma.mobile 24.24.apk\n"
     ]
    },
    {
     "name": "stderr",
     "output_type": "stream",
     "text": [
      "100%|█████████████████████████████████████████████████████████████████████████████| 39.1M/39.1M [00:02<00:00, 13.8MB/s]\n"
     ]
    },
    {
     "name": "stdout",
     "output_type": "stream",
     "text": [
      "error\n",
      "error\n",
      "#com.afterpaymobile.us 1.11.2.apk\n"
     ]
    },
    {
     "name": "stderr",
     "output_type": "stream",
     "text": [
      "100%|█████████████████████████████████████████████████████████████████████████████| 28.5M/28.5M [00:04<00:00, 6.48MB/s]\n"
     ]
    },
    {
     "name": "stdout",
     "output_type": "stream",
     "text": [
      "#com.truebill 6.22.3.apk\n"
     ]
    },
    {
     "name": "stderr",
     "output_type": "stream",
     "text": [
      "100%|██████████████████████████████████████████████████████████████████████████████| 58.7k/58.7k [00:00<00:00, 407kB/s]\n"
     ]
    },
    {
     "name": "stdout",
     "output_type": "stream",
     "text": [
      "#com.affirm.central 3.265.8.apk\n"
     ]
    },
    {
     "name": "stderr",
     "output_type": "stream",
     "text": [
      "100%|█████████████████████████████████████████████████████████████████████████████| 50.4M/50.4M [00:03<00:00, 15.8MB/s]\n"
     ]
    },
    {
     "name": "stdout",
     "output_type": "stream",
     "text": [
      "#com.DailyPay.DailyPay 12.1.0.apk\n"
     ]
    },
    {
     "name": "stderr",
     "output_type": "stream",
     "text": [
      "100%|█████████████████████████████████████████████████████████████████████████████| 69.2M/69.2M [00:06<00:00, 9.98MB/s]\n"
     ]
    },
    {
     "name": "stdout",
     "output_type": "stream",
     "text": [
      "error\n",
      "error\n",
      "#com.varomoney.bank 2.25.3.apk\n"
     ]
    },
    {
     "name": "stderr",
     "output_type": "stream",
     "text": [
      "100%|███████████████████████████████████████████████████████████████████████████████| 117M/117M [00:05<00:00, 22.9MB/s]\n"
     ]
    },
    {
     "name": "stdout",
     "output_type": "stream",
     "text": [
      "error\n",
      "#com.meetalbert 9.0.24.apk\n"
     ]
    },
    {
     "name": "stderr",
     "output_type": "stream",
     "text": [
      "100%|███████████████████████████████████████████████████████████████████████████████| 200M/200M [00:11<00:00, 18.0MB/s]\n"
     ]
    },
    {
     "name": "stdout",
     "output_type": "stream",
     "text": [
      "error\n",
      "error\n",
      "#com.sezzle.sezzlemobile 2.5.6.apk\n"
     ]
    },
    {
     "name": "stderr",
     "output_type": "stream",
     "text": [
      "100%|█████████████████████████████████████████████████████████████████████████████| 41.8M/41.8M [00:03<00:00, 11.6MB/s]\n"
     ]
    },
    {
     "name": "stdout",
     "output_type": "stream",
     "text": [
      "#com.even.harmony 10.44.0.apk\n"
     ]
    },
    {
     "name": "stderr",
     "output_type": "stream",
     "text": [
      "100%|█████████████████████████████████████████████████████████████████████████████| 67.2M/67.2M [00:04<00:00, 16.5MB/s]\n"
     ]
    },
    {
     "name": "stdout",
     "output_type": "stream",
     "text": [
      "error\n",
      "#com.kikoff 1.58.686.apk\n"
     ]
    },
    {
     "name": "stderr",
     "output_type": "stream",
     "text": [
      "100%|███████████████████████████████████████████████████████████████████████████████| 130M/130M [00:17<00:00, 7.36MB/s]\n"
     ]
    },
    {
     "name": "stdout",
     "output_type": "stream",
     "text": [
      "error\n",
      "error\n",
      "error\n",
      "error\n",
      "#com.activehours 15.23.apk\n"
     ]
    },
    {
     "name": "stderr",
     "output_type": "stream",
     "text": [
      "100%|█████████████████████████████████████████████████████████████████████████████| 39.6M/39.6M [00:11<00:00, 3.31MB/s]\n"
     ]
    },
    {
     "name": "stdout",
     "output_type": "stream",
     "text": [
      "#com.meetcleo.cleo 1.211.0.apk\n"
     ]
    },
    {
     "name": "stderr",
     "output_type": "stream",
     "text": [
      "100%|███████████████████████████████████████████████████████████████████████████████| 160M/160M [00:15<00:00, 10.3MB/s]\n"
     ]
    },
    {
     "name": "stdout",
     "output_type": "stream",
     "text": [
      "#finance.empower 4.5.2.121.apk\n"
     ]
    },
    {
     "name": "stderr",
     "output_type": "stream",
     "text": [
      "100%|█████████████████████████████████████████████████████████████████████████████| 46.7M/46.7M [00:03<00:00, 12.3MB/s]\n"
     ]
    },
    {
     "name": "stdout",
     "output_type": "stream",
     "text": [
      "#com.hellobrigit.Brigit 522.0.apk\n"
     ]
    },
    {
     "name": "stderr",
     "output_type": "stream",
     "text": [
      "100%|███████████████████████████████████████████████████████████████████████████████| 121M/121M [00:07<00:00, 15.9MB/s]\n"
     ]
    },
    {
     "name": "stdout",
     "output_type": "stream",
     "text": [
      "#com.dave 3.18.0.apk\n"
     ]
    },
    {
     "name": "stderr",
     "output_type": "stream",
     "text": [
      "100%|███████████████████████████████████████████████████████████████████████████████| 230M/230M [00:18<00:00, 12.6MB/s]\n"
     ]
    },
    {
     "name": "stdout",
     "output_type": "stream",
     "text": [
      "#com.DailyPay.DailyPay 12.1.0.apk\n"
     ]
    },
    {
     "name": "stderr",
     "output_type": "stream",
     "text": [
      "100%|█████████████████████████████████████████████████████████████████████████████| 69.2M/69.2M [00:50<00:00, 1.37MB/s]\n"
     ]
    },
    {
     "name": "stdout",
     "output_type": "stream",
     "text": [
      "#com.meetalbert 9.0.24.apk\n"
     ]
    },
    {
     "name": "stderr",
     "output_type": "stream",
     "text": [
      "100%|███████████████████████████████████████████████████████████████████████████████| 200M/200M [00:14<00:00, 13.9MB/s]\n"
     ]
    },
    {
     "name": "stdout",
     "output_type": "stream",
     "text": [
      "error\n",
      "error\n",
      "#com.ltmoneycenter_android.PROD 3.35.apk\n"
     ]
    },
    {
     "name": "stderr",
     "output_type": "stream",
     "text": [
      "100%|█████████████████████████████████████████████████████████████████████████████| 16.3M/16.3M [00:02<00:00, 8.10MB/s]\n"
     ]
    },
    {
     "name": "stdout",
     "output_type": "stream",
     "text": [
      "error\n",
      "error\n",
      "error\n",
      "error\n",
      "#com.truebill 6.22.3.apk\n"
     ]
    },
    {
     "name": "stderr",
     "output_type": "stream",
     "text": [
      "100%|██████████████████████████████████████████████████████████████████████████████| 58.7k/58.7k [00:00<00:00, 392kB/s]\n"
     ]
    },
    {
     "name": "stdout",
     "output_type": "stream",
     "text": [
      "error\n",
      "#com.ProActMobile 1.0.31.apk\n"
     ]
    },
    {
     "name": "stderr",
     "output_type": "stream",
     "text": [
      "100%|█████████████████████████████████████████████████████████████████████████████| 4.33M/4.33M [00:01<00:00, 3.77MB/s]\n"
     ]
    },
    {
     "name": "stdout",
     "output_type": "stream",
     "text": [
      "#com.current.app 7.7.0.apk\n"
     ]
    },
    {
     "name": "stderr",
     "output_type": "stream",
     "text": [
      "100%|███████████████████████████████████████████████████████████████████████████████| 132M/132M [00:08<00:00, 15.3MB/s]\n"
     ]
    },
    {
     "name": "stdout",
     "output_type": "stream",
     "text": [
      "error\n",
      "#com.affirm.central 3.265.8.apk\n"
     ]
    },
    {
     "name": "stderr",
     "output_type": "stream",
     "text": [
      "100%|█████████████████████████████████████████████████████████████████████████████| 50.4M/50.4M [00:04<00:00, 12.6MB/s]\n"
     ]
    },
    {
     "name": "stdout",
     "output_type": "stream",
     "text": [
      "#com.afterpaymobile.us 1.11.2.apk\n"
     ]
    },
    {
     "name": "stderr",
     "output_type": "stream",
     "text": [
      "100%|█████████████████████████████████████████████████████████████████████████████| 28.5M/28.5M [00:02<00:00, 11.0MB/s]\n"
     ]
    },
    {
     "name": "stdout",
     "output_type": "stream",
     "text": [
      "#com.dave 3.18.0.apk\n"
     ]
    },
    {
     "name": "stderr",
     "output_type": "stream",
     "text": [
      "100%|███████████████████████████████████████████████████████████████████████████████| 230M/230M [00:16<00:00, 13.7MB/s]\n"
     ]
    },
    {
     "name": "stdout",
     "output_type": "stream",
     "text": [
      "error\n",
      "#com.DailyPay.DailyPay 12.1.0.apk\n"
     ]
    },
    {
     "name": "stderr",
     "output_type": "stream",
     "text": [
      "100%|█████████████████████████████████████████████████████████████████████████████| 69.2M/69.2M [00:05<00:00, 13.1MB/s]\n"
     ]
    },
    {
     "name": "stdout",
     "output_type": "stream",
     "text": [
      "error\n",
      "#com.meetcleo.cleo 1.211.0.apk\n"
     ]
    },
    {
     "name": "stderr",
     "output_type": "stream",
     "text": [
      "100%|███████████████████████████████████████████████████████████████████████████████| 160M/160M [00:09<00:00, 16.6MB/s]\n"
     ]
    },
    {
     "name": "stdout",
     "output_type": "stream",
     "text": [
      "#com.hellobrigit.Brigit 522.0.apk\n"
     ]
    },
    {
     "name": "stderr",
     "output_type": "stream",
     "text": [
      "100%|███████████████████████████████████████████████████████████████████████████████| 121M/121M [00:11<00:00, 10.2MB/s]\n"
     ]
    },
    {
     "name": "stdout",
     "output_type": "stream",
     "text": [
      "#com.sezzle.sezzlemobile 2.5.6.apk\n"
     ]
    },
    {
     "name": "stderr",
     "output_type": "stream",
     "text": [
      "100%|█████████████████████████████████████████████████████████████████████████████| 41.8M/41.8M [00:05<00:00, 7.41MB/s]\n"
     ]
    },
    {
     "name": "stdout",
     "output_type": "stream",
     "text": [
      "#com.even.harmony 10.44.0.apk\n"
     ]
    },
    {
     "name": "stderr",
     "output_type": "stream",
     "text": [
      "100%|█████████████████████████████████████████████████████████████████████████████| 67.2M/67.2M [00:05<00:00, 12.2MB/s]\n"
     ]
    },
    {
     "name": "stdout",
     "output_type": "stream",
     "text": [
      "#com.creditkarma.mobile 24.24.apk\n"
     ]
    },
    {
     "name": "stderr",
     "output_type": "stream",
     "text": [
      "100%|█████████████████████████████████████████████████████████████████████████████| 39.1M/39.1M [00:03<00:00, 10.1MB/s]\n"
     ]
    },
    {
     "name": "stdout",
     "output_type": "stream",
     "text": [
      "error\n",
      "error\n",
      "error\n",
      "error\n",
      "error\n",
      "error\n",
      "#com.truebill 6.22.3.apk\n"
     ]
    },
    {
     "name": "stderr",
     "output_type": "stream",
     "text": [
      "100%|██████████████████████████████████████████████████████████████████████████████| 58.7k/58.7k [00:00<00:00, 397kB/s]\n"
     ]
    },
    {
     "name": "stdout",
     "output_type": "stream",
     "text": [
      "error\n",
      "#com.navyfederal.android 6.22.1.apk\n"
     ]
    },
    {
     "name": "stderr",
     "output_type": "stream",
     "text": [
      "100%|███████████████████████████████████████████████████████████████████████████████| 245M/245M [00:12<00:00, 20.3MB/s]\n"
     ]
    },
    {
     "name": "stdout",
     "output_type": "stream",
     "text": [
      "#com.cargurus.mobileApp 1.85.apk\n"
     ]
    },
    {
     "name": "stderr",
     "output_type": "stream",
     "text": [
      "100%|████████████████████████████████████████████████████████████████████████████████| 179k/179k [00:00<00:00, 585kB/s]\n"
     ]
    },
    {
     "name": "stdout",
     "output_type": "stream",
     "text": [
      "error\n",
      "error\n",
      "error\n",
      "#com.hellobrigit.Brigit 522.0.apk\n"
     ]
    },
    {
     "name": "stderr",
     "output_type": "stream",
     "text": [
      "100%|███████████████████████████████████████████████████████████████████████████████| 121M/121M [00:06<00:00, 18.0MB/s]\n"
     ]
    },
    {
     "name": "stdout",
     "output_type": "stream",
     "text": [
      "error\n",
      "#finance.empower 4.5.2.121.apk\n"
     ]
    },
    {
     "name": "stderr",
     "output_type": "stream",
     "text": [
      "100%|█████████████████████████████████████████████████████████████████████████████| 46.7M/46.7M [00:04<00:00, 11.5MB/s]\n"
     ]
    },
    {
     "name": "stdout",
     "output_type": "stream",
     "text": [
      "error\n",
      "error\n",
      "error\n",
      "error\n",
      "error\n",
      "error\n",
      "error\n",
      "#com.activehours 15.23.apk\n"
     ]
    },
    {
     "name": "stderr",
     "output_type": "stream",
     "text": [
      "100%|█████████████████████████████████████████████████████████████████████████████| 39.6M/39.6M [00:03<00:00, 11.8MB/s]\n"
     ]
    },
    {
     "name": "stdout",
     "output_type": "stream",
     "text": [
      "#com.meetcleo.cleo 1.211.0.apk\n"
     ]
    },
    {
     "name": "stderr",
     "output_type": "stream",
     "text": [
      "100%|███████████████████████████████████████████████████████████████████████████████| 160M/160M [00:18<00:00, 8.77MB/s]\n"
     ]
    },
    {
     "name": "stdout",
     "output_type": "stream",
     "text": [
      "#com.creditkarma.mobile 24.24.apk\n"
     ]
    },
    {
     "name": "stderr",
     "output_type": "stream",
     "text": [
      "100%|█████████████████████████████████████████████████████████████████████████████| 39.1M/39.1M [00:07<00:00, 5.42MB/s]\n"
     ]
    },
    {
     "name": "stdout",
     "output_type": "stream",
     "text": [
      "#com.experian.android 4.0.17.apk\n"
     ]
    },
    {
     "name": "stderr",
     "output_type": "stream",
     "text": [
      "100%|███████████████████████████████████████████████████████████████████████████████| 124M/124M [00:13<00:00, 9.17MB/s]\n"
     ]
    },
    {
     "name": "stdout",
     "output_type": "stream",
     "text": [
      "#com.creditsesame 7.9.1.apk\n"
     ]
    },
    {
     "name": "stderr",
     "output_type": "stream",
     "text": [
      "100%|█████████████████████████████████████████████████████████████████████████████| 64.6M/64.6M [00:04<00:00, 15.1MB/s]\n"
     ]
    },
    {
     "name": "stdout",
     "output_type": "stream",
     "text": [
      "#com.myfico 4.0.1.1.apk\n"
     ]
    },
    {
     "name": "stderr",
     "output_type": "stream",
     "text": [
      "100%|█████████████████████████████████████████████████████████████████████████████| 13.3M/13.3M [00:01<00:00, 8.25MB/s]\n"
     ]
    },
    {
     "name": "stdout",
     "output_type": "stream",
     "text": [
      "#com.kikoff 1.58.686.apk\n"
     ]
    },
    {
     "name": "stderr",
     "output_type": "stream",
     "text": [
      "100%|███████████████████████████████████████████████████████████████████████████████| 130M/130M [00:08<00:00, 15.2MB/s]\n"
     ]
    },
    {
     "name": "stdout",
     "output_type": "stream",
     "text": [
      "error\n",
      "error\n",
      "#com.hellobrigit.Brigit 522.0.apk\n"
     ]
    },
    {
     "name": "stderr",
     "output_type": "stream",
     "text": [
      "100%|███████████████████████████████████████████████████████████████████████████████| 121M/121M [00:08<00:00, 14.7MB/s]\n"
     ]
    },
    {
     "name": "stdout",
     "output_type": "stream",
     "text": [
      "error\n",
      "#com.selflender.thor 5.5.1.apk\n"
     ]
    },
    {
     "name": "stderr",
     "output_type": "stream",
     "text": [
      "100%|█████████████████████████████████████████████████████████████████████████████| 66.4M/66.4M [00:04<00:00, 16.0MB/s]\n"
     ]
    },
    {
     "name": "stdout",
     "output_type": "stream",
     "text": [
      "#com.capitalone.credittracker 1.113.1.apk\n"
     ]
    },
    {
     "name": "stderr",
     "output_type": "stream",
     "text": [
      "100%|█████████████████████████████████████████████████████████████████████████████| 50.8M/50.8M [00:22<00:00, 2.29MB/s]\n"
     ]
    },
    {
     "name": "stdout",
     "output_type": "stream",
     "text": [
      "#finance.empower 4.5.2.121.apk\n"
     ]
    },
    {
     "name": "stderr",
     "output_type": "stream",
     "text": [
      "100%|█████████████████████████████████████████████████████████████████████████████| 46.7M/46.7M [00:03<00:00, 12.7MB/s]\n"
     ]
    },
    {
     "name": "stdout",
     "output_type": "stream",
     "text": [
      "#com.mobilecreditcards 10.22.0.apk\n"
     ]
    },
    {
     "name": "stderr",
     "output_type": "stream",
     "text": [
      "100%|███████████████████████████████████████████████████████████████████████████████| 171M/171M [00:12<00:00, 13.7MB/s]\n"
     ]
    },
    {
     "name": "stdout",
     "output_type": "stream",
     "text": [
      "#com.onedebit.chime 5.18.0.apk\n"
     ]
    },
    {
     "name": "stderr",
     "output_type": "stream",
     "text": [
      "100%|█████████████████████████████████████████████████████████████████████████████| 35.2M/35.2M [00:02<00:00, 13.7MB/s]\n"
     ]
    },
    {
     "name": "stdout",
     "output_type": "stream",
     "text": [
      "error\n",
      "#com.wallethub.mywallet 1.16.5.apk\n"
     ]
    },
    {
     "name": "stderr",
     "output_type": "stream",
     "text": [
      "100%|█████████████████████████████████████████████████████████████████████████████| 49.4M/49.4M [00:16<00:00, 3.05MB/s]\n"
     ]
    },
    {
     "name": "stdout",
     "output_type": "stream",
     "text": [
      "#com.truebill 6.22.3.apk\n"
     ]
    },
    {
     "name": "stderr",
     "output_type": "stream",
     "text": [
      "100%|██████████████████████████████████████████████████████████████████████████████| 58.7k/58.7k [00:00<00:00, 351kB/s]\n"
     ]
    },
    {
     "name": "stdout",
     "output_type": "stream",
     "text": [
      "error\n",
      "#com.affirm.central 3.265.8.apk\n"
     ]
    },
    {
     "name": "stderr",
     "output_type": "stream",
     "text": [
      "100%|█████████████████████████████████████████████████████████████████████████████| 50.4M/50.4M [00:03<00:00, 15.2MB/s]\n"
     ]
    },
    {
     "name": "stdout",
     "output_type": "stream",
     "text": [
      "error\n",
      "#com.transunion.TransUnion 3.5.25.apk\n"
     ]
    },
    {
     "name": "stderr",
     "output_type": "stream",
     "text": [
      "100%|█████████████████████████████████████████████████████████████████████████████| 30.1M/30.1M [00:02<00:00, 11.3MB/s]\n"
     ]
    },
    {
     "name": "stdout",
     "output_type": "stream",
     "text": [
      "error\n",
      "#com.meetcleo.cleo 1.211.0.apk\n"
     ]
    },
    {
     "name": "stderr",
     "output_type": "stream",
     "text": [
      "100%|███████████████████████████████████████████████████████████████████████████████| 160M/160M [00:12<00:00, 12.7MB/s]\n"
     ]
    },
    {
     "name": "stdout",
     "output_type": "stream",
     "text": [
      "error\n",
      "#com.varomoney.bank 2.25.3.apk\n"
     ]
    },
    {
     "name": "stderr",
     "output_type": "stream",
     "text": [
      "100%|███████████████████████████████████████████████████████████████████████████████| 117M/117M [00:07<00:00, 15.6MB/s]\n"
     ]
    },
    {
     "name": "stdout",
     "output_type": "stream",
     "text": [
      "error\n",
      "error\n",
      "error\n",
      "error\n",
      "error\n",
      "#com.activehours 15.23.apk\n"
     ]
    },
    {
     "name": "stderr",
     "output_type": "stream",
     "text": [
      "100%|█████████████████████████████████████████████████████████████████████████████| 39.6M/39.6M [00:03<00:00, 12.4MB/s]\n"
     ]
    },
    {
     "name": "stdout",
     "output_type": "stream",
     "text": [
      "#finance.empower 4.5.2.121.apk\n"
     ]
    },
    {
     "name": "stderr",
     "output_type": "stream",
     "text": [
      "100%|█████████████████████████████████████████████████████████████████████████████| 46.7M/46.7M [00:04<00:00, 10.8MB/s]\n"
     ]
    },
    {
     "name": "stdout",
     "output_type": "stream",
     "text": [
      "#com.meetcleo.cleo 1.211.0.apk\n"
     ]
    },
    {
     "name": "stderr",
     "output_type": "stream",
     "text": [
      "100%|███████████████████████████████████████████████████████████████████████████████| 160M/160M [00:21<00:00, 7.43MB/s]\n"
     ]
    },
    {
     "name": "stdout",
     "output_type": "stream",
     "text": [
      "#com.hellobrigit.Brigit 522.0.apk\n"
     ]
    },
    {
     "name": "stderr",
     "output_type": "stream",
     "text": [
      "100%|███████████████████████████████████████████████████████████████████████████████| 121M/121M [00:08<00:00, 14.1MB/s]\n"
     ]
    },
    {
     "name": "stdout",
     "output_type": "stream",
     "text": [
      "error\n",
      "#com.dave 3.18.0.apk\n"
     ]
    },
    {
     "name": "stderr",
     "output_type": "stream",
     "text": [
      "100%|███████████████████████████████████████████████████████████████████████████████| 230M/230M [00:20<00:00, 11.4MB/s]\n"
     ]
    },
    {
     "name": "stdout",
     "output_type": "stream",
     "text": [
      "error\n",
      "error\n",
      "error\n",
      "error\n",
      "error\n",
      "error\n",
      "#com.chippercash 1.87.0.apk\n"
     ]
    },
    {
     "name": "stderr",
     "output_type": "stream",
     "text": [
      "100%|███████████████████████████████████████████████████████████████████████████████| 158M/158M [00:11<00:00, 14.1MB/s]\n"
     ]
    },
    {
     "name": "stdout",
     "output_type": "stream",
     "text": [
      "error\n",
      "#com.ProActMobile 1.0.31.apk\n"
     ]
    },
    {
     "name": "stderr",
     "output_type": "stream",
     "text": [
      "100%|█████████████████████████████████████████████████████████████████████████████| 4.33M/4.33M [00:01<00:00, 3.17MB/s]\n"
     ]
    },
    {
     "name": "stdout",
     "output_type": "stream",
     "text": [
      "#com.meetalbert 9.0.24.apk\n"
     ]
    },
    {
     "name": "stderr",
     "output_type": "stream",
     "text": [
      "100%|███████████████████████████████████████████████████████████████████████████████| 200M/200M [00:09<00:00, 20.8MB/s]\n"
     ]
    },
    {
     "name": "stdout",
     "output_type": "stream",
     "text": [
      "#com.ltmoneycenter_android.PROD 3.35.apk\n"
     ]
    },
    {
     "name": "stderr",
     "output_type": "stream",
     "text": [
      "100%|█████████████████████████████████████████████████████████████████████████████| 16.3M/16.3M [00:01<00:00, 10.4MB/s]\n"
     ]
    },
    {
     "name": "stdout",
     "output_type": "stream",
     "text": [
      "#com.DailyPay.DailyPay 12.1.0.apk\n"
     ]
    },
    {
     "name": "stderr",
     "output_type": "stream",
     "text": [
      "100%|█████████████████████████████████████████████████████████████████████████████| 69.2M/69.2M [00:03<00:00, 18.8MB/s]\n"
     ]
    },
    {
     "name": "stdout",
     "output_type": "stream",
     "text": [
      "#com.branchmessenger 8.59.2.apk\n"
     ]
    },
    {
     "name": "stderr",
     "output_type": "stream",
     "text": [
      "100%|███████████████████████████████████████████████████████████████████████████████| 152M/152M [00:07<00:00, 20.8MB/s]\n"
     ]
    },
    {
     "name": "stdout",
     "output_type": "stream",
     "text": [
      "error\n",
      "error\n",
      "error\n",
      "error\n",
      "#com.hellobrigit.Brigit 522.0.apk\n"
     ]
    },
    {
     "name": "stderr",
     "output_type": "stream",
     "text": [
      "100%|███████████████████████████████████████████████████████████████████████████████| 121M/121M [00:06<00:00, 17.5MB/s]\n"
     ]
    },
    {
     "name": "stdout",
     "output_type": "stream",
     "text": [
      "error\n",
      "error\n",
      "error\n",
      "#com.activehours 15.23.apk\n"
     ]
    },
    {
     "name": "stderr",
     "output_type": "stream",
     "text": [
      "100%|█████████████████████████████████████████████████████████████████████████████| 39.6M/39.6M [00:04<00:00, 9.42MB/s]\n"
     ]
    },
    {
     "name": "stdout",
     "output_type": "stream",
     "text": [
      "#finance.empower 4.5.2.121.apk\n"
     ]
    },
    {
     "name": "stderr",
     "output_type": "stream",
     "text": [
      "100%|█████████████████████████████████████████████████████████████████████████████| 46.7M/46.7M [00:04<00:00, 10.7MB/s]\n"
     ]
    },
    {
     "name": "stdout",
     "output_type": "stream",
     "text": [
      "#com.meetcleo.cleo 1.211.0.apk\n"
     ]
    },
    {
     "name": "stderr",
     "output_type": "stream",
     "text": [
      "100%|███████████████████████████████████████████████████████████████████████████████| 160M/160M [00:11<00:00, 14.0MB/s]\n"
     ]
    },
    {
     "name": "stdout",
     "output_type": "stream",
     "text": [
      "error\n",
      "error\n",
      "error\n",
      "error\n",
      "error\n",
      "error\n",
      "error\n",
      "error\n",
      "error\n",
      "error\n",
      "error\n",
      "#com.DailyPay.DailyPay 12.1.0.apk\n"
     ]
    },
    {
     "name": "stderr",
     "output_type": "stream",
     "text": [
      "100%|█████████████████████████████████████████████████████████████████████████████| 69.2M/69.2M [00:08<00:00, 8.15MB/s]\n"
     ]
    },
    {
     "name": "stdout",
     "output_type": "stream",
     "text": [
      "error\n",
      "error\n",
      "error\n",
      "error\n",
      "error\n",
      "#com.activehours 15.23.apk\n"
     ]
    },
    {
     "name": "stderr",
     "output_type": "stream",
     "text": [
      "100%|█████████████████████████████████████████████████████████████████████████████| 39.6M/39.6M [00:05<00:00, 7.80MB/s]\n"
     ]
    },
    {
     "name": "stdout",
     "output_type": "stream",
     "text": [
      "#com.meetcleo.cleo 1.211.0.apk\n"
     ]
    },
    {
     "name": "stderr",
     "output_type": "stream",
     "text": [
      "100%|███████████████████████████████████████████████████████████████████████████████| 160M/160M [00:19<00:00, 8.39MB/s]\n"
     ]
    },
    {
     "name": "stdout",
     "output_type": "stream",
     "text": [
      "error\n",
      "#com.hellobrigit.Brigit 522.0.apk\n"
     ]
    },
    {
     "name": "stderr",
     "output_type": "stream",
     "text": [
      "100%|███████████████████████████████████████████████████████████████████████████████| 121M/121M [00:10<00:00, 12.0MB/s]\n"
     ]
    },
    {
     "name": "stdout",
     "output_type": "stream",
     "text": [
      "#finance.empower 4.5.2.121.apk\n"
     ]
    },
    {
     "name": "stderr",
     "output_type": "stream",
     "text": [
      "100%|█████████████████████████████████████████████████████████████████████████████| 46.7M/46.7M [00:07<00:00, 6.46MB/s]\n"
     ]
    },
    {
     "name": "stdout",
     "output_type": "stream",
     "text": [
      "error\n",
      "error\n",
      "error\n",
      "error\n",
      "error\n",
      "error\n",
      "error\n",
      "error\n",
      "error\n",
      "#com.activehours 15.23.apk\n"
     ]
    },
    {
     "name": "stderr",
     "output_type": "stream",
     "text": [
      "100%|█████████████████████████████████████████████████████████████████████████████| 39.6M/39.6M [00:04<00:00, 8.64MB/s]\n"
     ]
    },
    {
     "name": "stdout",
     "output_type": "stream",
     "text": [
      "#com.meetcleo.cleo 1.211.0.apk\n"
     ]
    },
    {
     "name": "stderr",
     "output_type": "stream",
     "text": [
      "100%|███████████████████████████████████████████████████████████████████████████████| 160M/160M [00:29<00:00, 5.49MB/s]\n"
     ]
    },
    {
     "name": "stdout",
     "output_type": "stream",
     "text": [
      "error\n",
      "#finance.empower 4.5.2.121.apk\n"
     ]
    },
    {
     "name": "stderr",
     "output_type": "stream",
     "text": [
      "100%|█████████████████████████████████████████████████████████████████████████████| 46.7M/46.7M [00:11<00:00, 3.92MB/s]\n"
     ]
    },
    {
     "name": "stdout",
     "output_type": "stream",
     "text": [
      "error\n",
      "#com.hellobrigit.Brigit 522.0.apk\n"
     ]
    },
    {
     "name": "stderr",
     "output_type": "stream",
     "text": [
      "100%|███████████████████████████████████████████████████████████████████████████████| 121M/121M [00:16<00:00, 7.20MB/s]\n"
     ]
    },
    {
     "name": "stdout",
     "output_type": "stream",
     "text": [
      "#com.chippercash 1.87.0.apk\n"
     ]
    },
    {
     "name": "stderr",
     "output_type": "stream",
     "text": [
      "100%|███████████████████████████████████████████████████████████████████████████████| 158M/158M [00:10<00:00, 14.8MB/s]\n"
     ]
    },
    {
     "name": "stdout",
     "output_type": "stream",
     "text": [
      "error\n",
      "error\n",
      "error\n",
      "error\n",
      "error\n",
      "error\n",
      "error\n",
      "error\n",
      "error\n",
      "error\n",
      "error\n",
      "error\n",
      "error\n",
      "error\n",
      "error\n",
      "error\n",
      "#finance.empower 4.5.2.121.apk\n"
     ]
    },
    {
     "name": "stderr",
     "output_type": "stream",
     "text": [
      "100%|█████████████████████████████████████████████████████████████████████████████| 46.7M/46.7M [00:02<00:00, 16.4MB/s]\n"
     ]
    },
    {
     "name": "stdout",
     "output_type": "stream",
     "text": [
      "error\n",
      "error\n",
      "error\n",
      "error\n",
      "error\n",
      "error\n",
      "error\n",
      "error\n",
      "error\n",
      "error\n",
      "error\n",
      "error\n",
      "error\n",
      "#finance.empower 4.5.2.121.apk\n"
     ]
    },
    {
     "name": "stderr",
     "output_type": "stream",
     "text": [
      "100%|█████████████████████████████████████████████████████████████████████████████| 46.7M/46.7M [00:05<00:00, 8.13MB/s]\n"
     ]
    },
    {
     "name": "stdout",
     "output_type": "stream",
     "text": [
      "#com.hellobrigit.Brigit 522.0.apk\n"
     ]
    },
    {
     "name": "stderr",
     "output_type": "stream",
     "text": [
      "100%|███████████████████████████████████████████████████████████████████████████████| 121M/121M [00:05<00:00, 23.8MB/s]\n"
     ]
    },
    {
     "name": "stdout",
     "output_type": "stream",
     "text": [
      "error\n",
      "error\n",
      "error\n",
      "error\n",
      "error\n",
      "error\n",
      "error\n",
      "error\n",
      "error\n",
      "error\n",
      "error\n",
      "error\n",
      "error\n",
      "#com.creditkarma.mobile 24.24.apk\n"
     ]
    },
    {
     "name": "stderr",
     "output_type": "stream",
     "text": [
      "100%|█████████████████████████████████████████████████████████████████████████████| 39.1M/39.1M [00:02<00:00, 13.1MB/s]\n"
     ]
    },
    {
     "name": "stdout",
     "output_type": "stream",
     "text": [
      "error\n",
      "error\n",
      "#com.messapps.vola 2.7.51.apk\n"
     ]
    },
    {
     "name": "stderr",
     "output_type": "stream",
     "text": [
      "100%|███████████████████████████████████████████████████████████████████████████████| 106M/106M [00:19<00:00, 5.47MB/s]\n"
     ]
    },
    {
     "name": "stdout",
     "output_type": "stream",
     "text": [
      "error\n",
      "#com.affirm.central 3.265.8.apk\n"
     ]
    },
    {
     "name": "stderr",
     "output_type": "stream",
     "text": [
      "100%|█████████████████████████████████████████████████████████████████████████████| 50.4M/50.4M [00:06<00:00, 7.45MB/s]\n"
     ]
    },
    {
     "name": "stdout",
     "output_type": "stream",
     "text": [
      "#com.activehours 15.23.apk\n"
     ]
    },
    {
     "name": "stderr",
     "output_type": "stream",
     "text": [
      "100%|█████████████████████████████████████████████████████████████████████████████| 39.6M/39.6M [00:04<00:00, 8.52MB/s]\n"
     ]
    },
    {
     "name": "stdout",
     "output_type": "stream",
     "text": [
      "error\n",
      "error\n",
      "#com.meetcleo.cleo 1.211.0.apk\n"
     ]
    },
    {
     "name": "stderr",
     "output_type": "stream",
     "text": [
      "100%|███████████████████████████████████████████████████████████████████████████████| 160M/160M [00:30<00:00, 5.29MB/s]\n"
     ]
    },
    {
     "name": "stdout",
     "output_type": "stream",
     "text": [
      "error\n",
      "error\n",
      "error\n",
      "#com.hellobrigit.Brigit 522.0.apk\n"
     ]
    },
    {
     "name": "stderr",
     "output_type": "stream",
     "text": [
      "100%|███████████████████████████████████████████████████████████████████████████████| 121M/121M [00:15<00:00, 7.89MB/s]\n"
     ]
    },
    {
     "name": "stdout",
     "output_type": "stream",
     "text": [
      "error\n",
      "#finance.empower 4.5.2.121.apk\n"
     ]
    },
    {
     "name": "stderr",
     "output_type": "stream",
     "text": [
      "100%|█████████████████████████████████████████████████████████████████████████████| 46.7M/46.7M [00:02<00:00, 17.2MB/s]\n"
     ]
    },
    {
     "name": "stdout",
     "output_type": "stream",
     "text": [
      "error\n",
      "error\n",
      "error\n",
      "error\n",
      "error\n",
      "error\n",
      "error\n",
      "error\n",
      "error\n",
      "error\n",
      "error\n",
      "error\n",
      "error\n",
      "error\n",
      "error\n",
      "error\n",
      "error\n",
      "#com.quickenloans.myql 9.5.1.apk\n"
     ]
    },
    {
     "name": "stderr",
     "output_type": "stream",
     "text": [
      "100%|███████████████████████████████████████████████████████████████████████████████| 125M/125M [00:05<00:00, 22.2MB/s]\n"
     ]
    },
    {
     "name": "stdout",
     "output_type": "stream",
     "text": [
      "error\n",
      "error\n",
      "error\n",
      "#finance.empower 4.5.2.121.apk\n"
     ]
    },
    {
     "name": "stderr",
     "output_type": "stream",
     "text": [
      "100%|█████████████████████████████████████████████████████████████████████████████| 46.7M/46.7M [00:08<00:00, 5.25MB/s]\n"
     ]
    },
    {
     "name": "stdout",
     "output_type": "stream",
     "text": [
      "error\n",
      "error\n",
      "error\n",
      "#com.ltmoneycenter_android.PROD 3.35.apk\n"
     ]
    },
    {
     "name": "stderr",
     "output_type": "stream",
     "text": [
      "100%|█████████████████████████████████████████████████████████████████████████████| 16.3M/16.3M [00:03<00:00, 4.76MB/s]\n"
     ]
    },
    {
     "name": "stdout",
     "output_type": "stream",
     "text": [
      "#com.tonik.mobile 4.0.0.apk\n"
     ]
    },
    {
     "name": "stderr",
     "output_type": "stream",
     "text": [
      "100%|███████████████████████████████████████████████████████████████████████████████| 101M/101M [00:09<00:00, 11.0MB/s]\n"
     ]
    },
    {
     "name": "stdout",
     "output_type": "stream",
     "text": [
      "#com.creditkarma.mobile 24.24.apk\n"
     ]
    },
    {
     "name": "stderr",
     "output_type": "stream",
     "text": [
      "100%|█████████████████████████████████████████████████████████████████████████████| 39.1M/39.1M [00:02<00:00, 15.1MB/s]\n"
     ]
    },
    {
     "name": "stdout",
     "output_type": "stream",
     "text": [
      "error\n",
      "error\n",
      "error\n",
      "#com.truebill 6.22.3.apk\n"
     ]
    },
    {
     "name": "stderr",
     "output_type": "stream",
     "text": [
      "100%|██████████████████████████████████████████████████████████████████████████████| 58.7k/58.7k [00:00<00:00, 417kB/s]\n"
     ]
    },
    {
     "name": "stdout",
     "output_type": "stream",
     "text": [
      "error\n",
      "error\n",
      "error\n",
      "error\n",
      "error\n",
      "error\n",
      "#au.com.up.money 1.4.4.apk\n"
     ]
    },
    {
     "name": "stderr",
     "output_type": "stream",
     "text": [
      "100%|█████████████████████████████████████████████████████████████████████████████| 21.3M/21.3M [00:01<00:00, 11.2MB/s]\n"
     ]
    },
    {
     "name": "stdout",
     "output_type": "stream",
     "text": [
      "error\n",
      "error\n",
      "error\n",
      "error\n",
      "error\n",
      "#com.carvana.carvana 3.9.1.apk\n"
     ]
    },
    {
     "name": "stderr",
     "output_type": "stream",
     "text": [
      "100%|█████████████████████████████████████████████████████████████████████████████| 57.5M/57.5M [00:03<00:00, 16.5MB/s]\n"
     ]
    },
    {
     "name": "stdout",
     "output_type": "stream",
     "text": [
      "error\n",
      "error\n",
      "error\n",
      "error\n",
      "error\n",
      "error\n",
      "error\n",
      "error\n",
      "error\n",
      "#in.indwealth 7.1.8.apk\n"
     ]
    },
    {
     "name": "stderr",
     "output_type": "stream",
     "text": [
      "100%|█████████████████████████████████████████████████████████████████████████████| 93.1M/93.1M [00:04<00:00, 20.7MB/s]\n"
     ]
    },
    {
     "name": "stdout",
     "output_type": "stream",
     "text": [
      "#com.smallcase.android 2.4.4.apk\n"
     ]
    },
    {
     "name": "stderr",
     "output_type": "stream",
     "text": [
      "100%|█████████████████████████████████████████████████████████████████████████████| 17.0M/17.0M [00:01<00:00, 11.8MB/s]\n"
     ]
    },
    {
     "name": "stdout",
     "output_type": "stream",
     "text": [
      "error\n",
      "#com.iw.imperialmoney 1.3.7.apk\n"
     ]
    },
    {
     "name": "stderr",
     "output_type": "stream",
     "text": [
      "100%|█████████████████████████████████████████████████████████████████████████████| 15.4M/15.4M [00:01<00:00, 9.41MB/s]\n"
     ]
    },
    {
     "name": "stdout",
     "output_type": "stream",
     "text": [
      "error\n",
      "error\n",
      "error\n",
      "error\n",
      "error\n",
      "#io.assetplus 4.2.8.apk\n"
     ]
    },
    {
     "name": "stderr",
     "output_type": "stream",
     "text": [
      "100%|█████████████████████████████████████████████████████████████████████████████| 6.48M/6.48M [00:01<00:00, 4.49MB/s]\n"
     ]
    },
    {
     "name": "stdout",
     "output_type": "stream",
     "text": [
      "error\n",
      "#com.betterment 7.32.0.apk\n"
     ]
    },
    {
     "name": "stderr",
     "output_type": "stream",
     "text": [
      "100%|█████████████████████████████████████████████████████████████████████████████| 88.4M/88.4M [00:07<00:00, 11.4MB/s]\n"
     ]
    },
    {
     "name": "stdout",
     "output_type": "stream",
     "text": [
      "error\n",
      "#com.fundsindia 7.4.apk\n"
     ]
    },
    {
     "name": "stderr",
     "output_type": "stream",
     "text": [
      "100%|█████████████████████████████████████████████████████████████████████████████| 46.3M/46.3M [00:06<00:00, 7.43MB/s]\n"
     ]
    },
    {
     "name": "stdout",
     "output_type": "stream",
     "text": [
      "error\n",
      "#com.hdfcfund.investor 2.5.6.apk\n"
     ]
    },
    {
     "name": "stderr",
     "output_type": "stream",
     "text": [
      "100%|█████████████████████████████████████████████████████████████████████████████| 36.6M/36.6M [00:09<00:00, 3.90MB/s]\n"
     ]
    },
    {
     "name": "stdout",
     "output_type": "stream",
     "text": [
      "error\n",
      "#com.dsp.invest 1.0.153.apk\n"
     ]
    },
    {
     "name": "stderr",
     "output_type": "stream",
     "text": [
      "100%|█████████████████████████████████████████████████████████████████████████████| 26.0M/26.0M [00:05<00:00, 4.89MB/s]\n"
     ]
    },
    {
     "name": "stdout",
     "output_type": "stream",
     "text": [
      "error\n",
      "error\n",
      "error\n",
      "#com.sscinc.retirement.c3ec0f57878e45a0be784ae98063528a 1.0.1172.apk\n"
     ]
    },
    {
     "name": "stderr",
     "output_type": "stream",
     "text": [
      "100%|█████████████████████████████████████████████████████████████████████████████| 4.91M/4.91M [00:01<00:00, 3.15MB/s]\n"
     ]
    },
    {
     "name": "stdout",
     "output_type": "stream",
     "text": [
      "error\n",
      "error\n",
      "error\n",
      "error\n",
      "error\n",
      "#finance.empower 4.5.2.121.apk\n"
     ]
    },
    {
     "name": "stderr",
     "output_type": "stream",
     "text": [
      "100%|█████████████████████████████████████████████████████████████████████████████| 46.7M/46.7M [00:03<00:00, 12.2MB/s]\n"
     ]
    },
    {
     "name": "stdout",
     "output_type": "stream",
     "text": [
      "#vopo.easyhomefinance 6.6.0.apk\n"
     ]
    },
    {
     "name": "stderr",
     "output_type": "stream",
     "text": [
      "100%|█████████████████████████████████████████████████████████████████████████████| 14.1M/14.1M [00:01<00:00, 7.33MB/s]\n"
     ]
    },
    {
     "name": "stdout",
     "output_type": "stream",
     "text": [
      "#com.hellobrigit.Brigit 522.0.apk\n"
     ]
    },
    {
     "name": "stderr",
     "output_type": "stream",
     "text": [
      "100%|███████████████████████████████████████████████████████████████████████████████| 121M/121M [00:06<00:00, 19.6MB/s]\n"
     ]
    },
    {
     "name": "stdout",
     "output_type": "stream",
     "text": [
      "error\n",
      "error\n",
      "error\n",
      "error\n",
      "error\n",
      "error\n",
      "error\n",
      "error\n",
      "error\n",
      "error\n",
      "#com.ltmoneycenter_android.PROD 3.35.apk\n"
     ]
    },
    {
     "name": "stderr",
     "output_type": "stream",
     "text": [
      "100%|█████████████████████████████████████████████████████████████████████████████| 16.3M/16.3M [00:01<00:00, 10.6MB/s]\n"
     ]
    },
    {
     "name": "stdout",
     "output_type": "stream",
     "text": [
      "#finance.empower 4.5.2.121.apk\n"
     ]
    },
    {
     "name": "stderr",
     "output_type": "stream",
     "text": [
      "100%|█████████████████████████████████████████████████████████████████████████████| 46.7M/46.7M [00:03<00:00, 13.9MB/s]\n"
     ]
    },
    {
     "name": "stdout",
     "output_type": "stream",
     "text": [
      "error\n",
      "#com.hellobrigit.Brigit 522.0.apk\n"
     ]
    },
    {
     "name": "stderr",
     "output_type": "stream",
     "text": [
      "100%|███████████████████████████████████████████████████████████████████████████████| 121M/121M [00:20<00:00, 6.00MB/s]\n"
     ]
    },
    {
     "name": "stdout",
     "output_type": "stream",
     "text": [
      "error\n",
      "error\n",
      "error\n",
      "error\n",
      "error\n",
      "error\n",
      "error\n",
      "#finance.empower 4.5.2.121.apk\n"
     ]
    },
    {
     "name": "stderr",
     "output_type": "stream",
     "text": [
      "100%|█████████████████████████████████████████████████████████████████████████████| 46.7M/46.7M [00:05<00:00, 8.07MB/s]\n"
     ]
    },
    {
     "name": "stdout",
     "output_type": "stream",
     "text": [
      "#com.hellobrigit.Brigit 522.0.apk\n"
     ]
    },
    {
     "name": "stderr",
     "output_type": "stream",
     "text": [
      "100%|███████████████████████████████████████████████████████████████████████████████| 121M/121M [00:12<00:00, 10.0MB/s]\n"
     ]
    },
    {
     "name": "stdout",
     "output_type": "stream",
     "text": [
      "error\n",
      "error\n",
      "error\n",
      "error\n",
      "error\n",
      "error\n",
      "error\n",
      "error\n",
      "#com.meetcleo.cleo 1.211.0.apk\n"
     ]
    },
    {
     "name": "stderr",
     "output_type": "stream",
     "text": [
      "100%|███████████████████████████████████████████████████████████████████████████████| 160M/160M [00:16<00:00, 9.79MB/s]\n"
     ]
    },
    {
     "name": "stdout",
     "output_type": "stream",
     "text": [
      "error\n",
      "#com.activehours 15.23.apk\n"
     ]
    },
    {
     "name": "stderr",
     "output_type": "stream",
     "text": [
      "100%|█████████████████████████████████████████████████████████████████████████████| 39.6M/39.6M [00:05<00:00, 7.15MB/s]\n"
     ]
    },
    {
     "name": "stdout",
     "output_type": "stream",
     "text": [
      "error\n",
      "error\n",
      "error\n",
      "error\n",
      "error\n",
      "error\n",
      "#com.ltmoneycenter_android.PROD 3.35.apk\n"
     ]
    },
    {
     "name": "stderr",
     "output_type": "stream",
     "text": [
      "100%|█████████████████████████████████████████████████████████████████████████████| 16.3M/16.3M [00:02<00:00, 5.50MB/s]\n"
     ]
    },
    {
     "name": "stdout",
     "output_type": "stream",
     "text": [
      "error\n",
      "error\n",
      "error\n",
      "error\n",
      "error\n",
      "error\n",
      "error\n",
      "error\n",
      "error\n",
      "error\n",
      "error\n",
      "error\n",
      "#com.hellobrigit.Brigit 522.0.apk\n"
     ]
    },
    {
     "name": "stderr",
     "output_type": "stream",
     "text": [
      "100%|███████████████████████████████████████████████████████████████████████████████| 121M/121M [00:07<00:00, 17.2MB/s]\n"
     ]
    },
    {
     "name": "stdout",
     "output_type": "stream",
     "text": [
      "error\n",
      "error\n",
      "error\n",
      "error\n",
      "error\n",
      "error\n",
      "error\n",
      "error\n",
      "error\n",
      "error\n",
      "error\n",
      "error\n",
      "error\n",
      "error\n",
      "#finance.empower 4.5.2.121.apk\n"
     ]
    },
    {
     "name": "stderr",
     "output_type": "stream",
     "text": [
      "100%|█████████████████████████████████████████████████████████████████████████████| 46.7M/46.7M [00:02<00:00, 16.0MB/s]\n"
     ]
    },
    {
     "name": "stdout",
     "output_type": "stream",
     "text": [
      "error\n",
      "error\n",
      "#com.ltmoneycenter_android.PROD 3.35.apk\n"
     ]
    },
    {
     "name": "stderr",
     "output_type": "stream",
     "text": [
      "100%|█████████████████████████████████████████████████████████████████████████████| 16.3M/16.3M [00:02<00:00, 6.61MB/s]\n"
     ]
    },
    {
     "name": "stdout",
     "output_type": "stream",
     "text": [
      "error\n",
      "error\n",
      "error\n",
      "error\n",
      "error\n",
      "error\n",
      "error\n",
      "error\n",
      "error\n",
      "error\n",
      "#com.kikoff 1.58.686.apk\n"
     ]
    },
    {
     "name": "stderr",
     "output_type": "stream",
     "text": [
      "100%|███████████████████████████████████████████████████████████████████████████████| 130M/130M [00:07<00:00, 18.3MB/s]\n"
     ]
    },
    {
     "name": "stdout",
     "output_type": "stream",
     "text": [
      "error\n",
      "error\n",
      "#au.com.up.money 1.4.4.apk\n"
     ]
    },
    {
     "name": "stderr",
     "output_type": "stream",
     "text": [
      "100%|█████████████████████████████████████████████████████████████████████████████| 21.3M/21.3M [00:03<00:00, 6.92MB/s]\n"
     ]
    },
    {
     "name": "stdout",
     "output_type": "stream",
     "text": [
      "error\n",
      "#com.activehours 15.23.apk\n"
     ]
    },
    {
     "name": "stderr",
     "output_type": "stream",
     "text": [
      "100%|█████████████████████████████████████████████████████████████████████████████| 39.6M/39.6M [00:04<00:00, 8.95MB/s]\n"
     ]
    },
    {
     "name": "stdout",
     "output_type": "stream",
     "text": [
      "#com.fundbox.mobile 3.10.0.apk\n"
     ]
    },
    {
     "name": "stderr",
     "output_type": "stream",
     "text": [
      "100%|█████████████████████████████████████████████████████████████████████████████| 86.2M/86.2M [00:11<00:00, 7.38MB/s]\n"
     ]
    },
    {
     "name": "stdout",
     "output_type": "stream",
     "text": [
      "error\n",
      "error\n",
      "#com.truebill 6.22.3.apk\n"
     ]
    },
    {
     "name": "stderr",
     "output_type": "stream",
     "text": [
      "100%|██████████████████████████████████████████████████████████████████████████████| 58.7k/58.7k [00:00<00:00, 397kB/s]\n"
     ]
    },
    {
     "name": "stdout",
     "output_type": "stream",
     "text": [
      "#com.meetcleo.cleo 1.211.0.apk\n"
     ]
    },
    {
     "name": "stderr",
     "output_type": "stream",
     "text": [
      "100%|███████████████████████████████████████████████████████████████████████████████| 160M/160M [00:19<00:00, 8.40MB/s]\n"
     ]
    },
    {
     "name": "stdout",
     "output_type": "stream",
     "text": [
      "error\n",
      "error\n"
     ]
    }
   ],
   "source": [
    "for id in app_ids:\n",
    "    # print(id)\n",
    "    Downloader = Aptoide()\n",
    "    try:\n",
    "        Downloader.download_by_package_name(package_name= id, file_name=id, version=\"latest\", in_background=False, limit=50)\n",
    "    except:\n",
    "        print(\"\")"
   ]
  },
  {
   "cell_type": "code",
   "execution_count": null,
   "id": "efa222ee-e29e-40bb-9945-3a13ae89f0a7",
   "metadata": {},
   "outputs": [],
   "source": []
  },
  {
   "cell_type": "code",
   "execution_count": null,
   "id": "ad0d65c6-51e3-4000-8680-abaa2e50eaac",
   "metadata": {},
   "outputs": [],
   "source": []
  },
  {
   "cell_type": "code",
   "execution_count": 33,
   "id": "1931a46b-7c8a-4ec2-ba1c-aa43c126d127",
   "metadata": {},
   "outputs": [],
   "source": [
    "# HEADERS = {\n",
    "#     'User-Agent': 'Mozilla/5.0 (Windows NT 10.0; Win64; x64) AppleWebKit/537.36 (KHTML, like Gecko) Chrome/91.0.4472.124 Safari/537.36'\n",
    "# }"
   ]
  },
  {
   "cell_type": "code",
   "execution_count": 34,
   "id": "aa01b51e-70d1-4d1e-ae30-df5cef08414a",
   "metadata": {},
   "outputs": [
    {
     "name": "stdout",
     "output_type": "stream",
     "text": [
      "Error during search: ('Connection aborted.', ConnectionResetError(10054, 'An existing connection was forcibly closed by the remote host', None, 10054, None))\n",
      "No results for org.moire.opensudoku\n"
     ]
    }
   ],
   "source": [
    "# def search(query):\n",
    "#     try:\n",
    "#         res = requests.get(f'https://apkpure.com/search?q={quote_plus(query)}', headers=HEADERS)\n",
    "#         res.raise_for_status()  # Check if the request was successful\n",
    "#         soup = BeautifulSoup(res.text, \"html.parser\")\n",
    "#         search_result = soup.find('div', {'id': 'search-res'}).find('dl', {'class': 'search-dl'})\n",
    "#         app_tag = search_result.find('p', {'class': 'search-title'}).find('a')\n",
    "#         download_link = 'https://apkpure.com' + app_tag['href']\n",
    "#         return download_link\n",
    "#     except Exception as e:\n",
    "#         print(f\"Error during search: {e}\")\n",
    "#         return None\n",
    "\n",
    "# def download(link):\n",
    "#     try:\n",
    "#         res = requests.get(f'{link}/download?from=details', headers=HEADERS)\n",
    "#         res.raise_for_status()  # Check if the request was successful\n",
    "#         soup = BeautifulSoup(res.text, \"html.parser\").find('a', {'id': 'download_link'})\n",
    "#         if soup and 'href' in soup.attrs:\n",
    "#             download_url = soup['href']\n",
    "#             r = requests.get(download_url, stream=True, headers=HEADERS)\n",
    "#             r.raise_for_status()  # Check if the request was successful\n",
    "#             apk_name = link.split('/')[-1] + '.apk'\n",
    "#             with open(apk_name, 'wb') as file:\n",
    "#                 for chunk in r.iter_content(chunk_size=1024):\n",
    "#                     if chunk:\n",
    "#                         file.write(chunk)\n",
    "#             print(f\"Downloaded {apk_name}\")\n",
    "#         else:\n",
    "#             print(\"Download link not found\")\n",
    "#     except Exception as e:\n",
    "#         print(f\"Error during download: {e}\")\n",
    "\n",
    "# def download_apk(app_id):\n",
    "#     download_link = search(app_id)\n",
    "#     if download_link:\n",
    "#         print(f\"Downloading {app_id}.apk ...\")\n",
    "#         download(download_link)\n",
    "#         print(\"Download completed!\")\n",
    "#     else:\n",
    "#         print(f\"No results for {app_id}\")\n",
    "\n",
    "# # Example app IDs list\n",
    "# app_ids = [\n",
    "#     'org.moire.opensudoku',\n",
    "# ]\n",
    "\n",
    "# # Ensure the directory exists\n",
    "# if not os.path.exists('./downloaded_apks'):\n",
    "#     os.makedirs('./downloaded_apks')\n",
    "# os.chdir('./downloaded_apks')\n",
    "\n",
    "# # Download each APK\n",
    "# for app_id in app_ids:\n",
    "#     download_apk(app_id)"
   ]
  },
  {
   "cell_type": "code",
   "execution_count": 51,
   "id": "50d600f1-f03c-4882-8493-48a94f002deb",
   "metadata": {},
   "outputs": [],
   "source": [
    "# HEADERS = {\n",
    "#     'User-Agent': 'Mediapartners-Google',\n",
    "#     'Accept': 'text/html,application/xhtml+xml,application/xml;q=0.9,image/webp,'\n",
    "#               'image/apng,*/*;q=0.8,application/signed-exchange;v=b3;q=0.9',\n",
    "#     'Accept-Language': 'en-US,en;q=0.9',\n",
    "#     'Accept-Encoding': 'gzip, deflate, br',\n",
    "#     'Connection': 'keep-alive',\n",
    "#     'Cache-Control': 'max-age=0',\n",
    "#     'Referer': 'https://apkpure.com/',\n",
    "# }"
   ]
  },
  {
   "cell_type": "code",
   "execution_count": 52,
   "id": "d69b00bc-1110-4ed0-b585-bda7263d78bd",
   "metadata": {},
   "outputs": [
    {
     "name": "stdout",
     "output_type": "stream",
     "text": [
      "Error during download: ('Connection aborted.', ConnectionResetError(10054, 'An existing connection was forcibly closed by the remote host', None, 10054, None))\n",
      "Download failed.\n"
     ]
    }
   ],
   "source": [
    "# import requests\n",
    "# from bs4 import BeautifulSoup\n",
    "# import os\n",
    "\n",
    "# # Example link\n",
    "# download_url = 'https://apkpure.com/cashe-personal-loan-app/co.tslc.cashe.android/downloading'\n",
    "\n",
    "# def download_apk(url):\n",
    "#     try:\n",
    "#         # Step 1: Send a GET request to the download URL\n",
    "#         response = requests.get(url, headers=HEADERS, allow_redirects=True)\n",
    "#         response.raise_for_status()  # Raise an exception for bad responses\n",
    "\n",
    "#         # Step 2: Parse the HTML to find the download link\n",
    "#         soup = BeautifulSoup(response.content, 'html.parser')\n",
    "#         download_link = soup.find('a', {'id': 'download_link'})\n",
    "#         if download_link:\n",
    "#             apk_url = download_link.get('href')\n",
    "\n",
    "#             # Step 3: Download the APK file\n",
    "#             apk_filename = apk_url.split('/')[-1]\n",
    "#             with open(apk_filename, 'wb') as apk_file:\n",
    "#                 apk_response = requests.get(apk_url, stream=True)\n",
    "#                 for chunk in apk_response.iter_content(chunk_size=1024):\n",
    "#                     apk_file.write(chunk)\n",
    "#             print(f\"Downloaded {apk_filename}\")\n",
    "\n",
    "#             # Step 4: Optionally, return or process the downloaded file\n",
    "#             return os.path.abspath(apk_filename)\n",
    "#         else:\n",
    "#             print(\"Download link not found.\")\n",
    "#             return None\n",
    "\n",
    "#     except requests.exceptions.RequestException as e:\n",
    "#         print(f\"Error during download: {e}\")\n",
    "#         return None\n",
    "\n",
    "# # Example usage\n",
    "# apk_file = download_apk(download_url)\n",
    "# if apk_file:\n",
    "#     print(f\"APK file downloaded to: {apk_file}\")\n",
    "# else:\n",
    "#     print(\"Download failed.\")"
   ]
  },
  {
   "cell_type": "code",
   "execution_count": 45,
   "id": "53cf73be-2e88-4788-b894-690ffd46677f",
   "metadata": {},
   "outputs": [
    {
     "ename": "ImportError",
     "evalue": "cannot import name 'GoogleSearch' from 'serpapi' (C:\\Users\\janam\\AppData\\Local\\Programs\\Python\\Python311\\Lib\\site-packages\\serpapi\\__init__.py)",
     "output_type": "error",
     "traceback": [
      "\u001b[1;31m---------------------------------------------------------------------------\u001b[0m",
      "\u001b[1;31mImportError\u001b[0m                               Traceback (most recent call last)",
      "Cell \u001b[1;32mIn[45], line 1\u001b[0m\n\u001b[1;32m----> 1\u001b[0m \u001b[38;5;28;01mfrom\u001b[39;00m \u001b[38;5;21;01mserpapi\u001b[39;00m \u001b[38;5;28;01mimport\u001b[39;00m GoogleSearch\n\u001b[0;32m      2\u001b[0m \u001b[38;5;28;01mfrom\u001b[39;00m \u001b[38;5;21;01murllib\u001b[39;00m\u001b[38;5;21;01m.\u001b[39;00m\u001b[38;5;21;01mparse\u001b[39;00m \u001b[38;5;28;01mimport\u001b[39;00m (parse_qsl, urlsplit)\n\u001b[0;32m      3\u001b[0m \u001b[38;5;28;01mimport\u001b[39;00m \u001b[38;5;21;01mjson\u001b[39;00m\n",
      "\u001b[1;31mImportError\u001b[0m: cannot import name 'GoogleSearch' from 'serpapi' (C:\\Users\\janam\\AppData\\Local\\Programs\\Python\\Python311\\Lib\\site-packages\\serpapi\\__init__.py)"
     ]
    }
   ],
   "source": [
    "# from serpapi import GoogleSearch\n",
    "# from urllib.parse import (parse_qsl, urlsplit)\n",
    "# import json"
   ]
  },
  {
   "cell_type": "code",
   "execution_count": 47,
   "id": "a553781f-3624-43dc-ae82-5b0703614852",
   "metadata": {},
   "outputs": [
    {
     "ename": "HTTPError",
     "evalue": "401 Client Error: Unauthorized for url: https://serpapi.com/search?engine=google_play&q=loan&store=apps&max_results=2",
     "output_type": "error",
     "traceback": [
      "\u001b[1;31m---------------------------------------------------------------------------\u001b[0m",
      "\u001b[1;31mHTTPError\u001b[0m                                 Traceback (most recent call last)",
      "File \u001b[1;32m~\\AppData\\Local\\Programs\\Python\\Python311\\Lib\\site-packages\\serpapi\\http.py:59\u001b[0m, in \u001b[0;36mraise_for_status\u001b[1;34m(r)\u001b[0m\n\u001b[0;32m     58\u001b[0m \u001b[38;5;28;01mtry\u001b[39;00m:\n\u001b[1;32m---> 59\u001b[0m     \u001b[43mr\u001b[49m\u001b[38;5;241;43m.\u001b[39;49m\u001b[43mraise_for_status\u001b[49m\u001b[43m(\u001b[49m\u001b[43m)\u001b[49m\n\u001b[0;32m     60\u001b[0m \u001b[38;5;28;01mexcept\u001b[39;00m requests\u001b[38;5;241m.\u001b[39mexceptions\u001b[38;5;241m.\u001b[39mHTTPError \u001b[38;5;28;01mas\u001b[39;00m e:\n",
      "File \u001b[1;32m~\\AppData\\Local\\Programs\\Python\\Python311\\Lib\\site-packages\\requests\\models.py:1021\u001b[0m, in \u001b[0;36mResponse.raise_for_status\u001b[1;34m(self)\u001b[0m\n\u001b[0;32m   1020\u001b[0m \u001b[38;5;28;01mif\u001b[39;00m http_error_msg:\n\u001b[1;32m-> 1021\u001b[0m     \u001b[38;5;28;01mraise\u001b[39;00m HTTPError(http_error_msg, response\u001b[38;5;241m=\u001b[39m\u001b[38;5;28mself\u001b[39m)\n",
      "\u001b[1;31mHTTPError\u001b[0m: 401 Client Error: Unauthorized for url: https://serpapi.com/search?engine=google_play&q=loan&store=apps&max_results=2",
      "\nDuring handling of the above exception, another exception occurred:\n",
      "\u001b[1;31mHTTPError\u001b[0m                                 Traceback (most recent call last)",
      "File \u001b[1;32m~\\AppData\\Local\\Programs\\Python\\Python311\\Lib\\site-packages\\serpapi\\http.py:47\u001b[0m, in \u001b[0;36mHTTPClient.request\u001b[1;34m(self, method, path, params, assert_200, **kwargs)\u001b[0m\n\u001b[0;32m     46\u001b[0m \u001b[38;5;28;01mtry\u001b[39;00m:\n\u001b[1;32m---> 47\u001b[0m     \u001b[43mraise_for_status\u001b[49m\u001b[43m(\u001b[49m\u001b[43mr\u001b[49m\u001b[43m)\u001b[49m\n\u001b[0;32m     48\u001b[0m \u001b[38;5;28;01mexcept\u001b[39;00m requests\u001b[38;5;241m.\u001b[39mexceptions\u001b[38;5;241m.\u001b[39mHTTPError \u001b[38;5;28;01mas\u001b[39;00m e:\n",
      "File \u001b[1;32m~\\AppData\\Local\\Programs\\Python\\Python311\\Lib\\site-packages\\serpapi\\http.py:61\u001b[0m, in \u001b[0;36mraise_for_status\u001b[1;34m(r)\u001b[0m\n\u001b[0;32m     60\u001b[0m \u001b[38;5;28;01mexcept\u001b[39;00m requests\u001b[38;5;241m.\u001b[39mexceptions\u001b[38;5;241m.\u001b[39mHTTPError \u001b[38;5;28;01mas\u001b[39;00m e:\n\u001b[1;32m---> 61\u001b[0m     \u001b[38;5;28;01mraise\u001b[39;00m HTTPError(e)\n",
      "\u001b[1;31mHTTPError\u001b[0m: 401 Client Error: Unauthorized for url: https://serpapi.com/search?engine=google_play&q=loan&store=apps&max_results=2",
      "\nDuring handling of the above exception, another exception occurred:\n",
      "\u001b[1;31mHTTPError\u001b[0m                                 Traceback (most recent call last)",
      "Cell \u001b[1;32mIn[47], line 5\u001b[0m\n\u001b[0;32m      2\u001b[0m \u001b[38;5;28;01mimport\u001b[39;00m \u001b[38;5;21;01mserpapi\u001b[39;00m\n\u001b[0;32m      4\u001b[0m client \u001b[38;5;241m=\u001b[39m serpapi\u001b[38;5;241m.\u001b[39mClient(api_key\u001b[38;5;241m=\u001b[39mos\u001b[38;5;241m.\u001b[39mgetenv(\u001b[38;5;124m\"\u001b[39m\u001b[38;5;124ma10d631d0be4a4aa4f6090efa40799ed0faa89958cfe330b47e5a2f6534dd6e3\u001b[39m\u001b[38;5;124m\"\u001b[39m))\n\u001b[1;32m----> 5\u001b[0m results \u001b[38;5;241m=\u001b[39m \u001b[43mclient\u001b[49m\u001b[38;5;241;43m.\u001b[39;49m\u001b[43msearch\u001b[49m\u001b[43m(\u001b[49m\u001b[43m{\u001b[49m\n\u001b[0;32m      6\u001b[0m \u001b[43m    \u001b[49m\u001b[38;5;124;43m'\u001b[39;49m\u001b[38;5;124;43mengine\u001b[39;49m\u001b[38;5;124;43m'\u001b[39;49m\u001b[43m:\u001b[49m\u001b[43m \u001b[49m\u001b[38;5;124;43m'\u001b[39;49m\u001b[38;5;124;43mgoogle_play\u001b[39;49m\u001b[38;5;124;43m'\u001b[39;49m\u001b[43m,\u001b[49m\n\u001b[0;32m      7\u001b[0m \u001b[43m    \u001b[49m\u001b[38;5;124;43m'\u001b[39;49m\u001b[38;5;124;43mq\u001b[39;49m\u001b[38;5;124;43m'\u001b[39;49m\u001b[43m:\u001b[49m\u001b[43m \u001b[49m\u001b[38;5;124;43m'\u001b[39;49m\u001b[38;5;124;43mloan\u001b[39;49m\u001b[38;5;124;43m'\u001b[39;49m\u001b[43m,\u001b[49m\n\u001b[0;32m      8\u001b[0m \u001b[43m    \u001b[49m\u001b[38;5;124;43m'\u001b[39;49m\u001b[38;5;124;43mstore\u001b[39;49m\u001b[38;5;124;43m'\u001b[39;49m\u001b[43m:\u001b[49m\u001b[43m \u001b[49m\u001b[38;5;124;43m'\u001b[39;49m\u001b[38;5;124;43mapps\u001b[39;49m\u001b[38;5;124;43m'\u001b[39;49m\u001b[43m,\u001b[49m\n\u001b[0;32m      9\u001b[0m \u001b[43m    \u001b[49m\u001b[38;5;124;43m'\u001b[39;49m\u001b[38;5;124;43mmax_results\u001b[39;49m\u001b[38;5;124;43m'\u001b[39;49m\u001b[43m:\u001b[49m\u001b[43m \u001b[49m\u001b[38;5;124;43m'\u001b[39;49m\u001b[38;5;124;43m2\u001b[39;49m\u001b[38;5;124;43m'\u001b[39;49m\u001b[43m,\u001b[49m\n\u001b[0;32m     10\u001b[0m \u001b[43m}\u001b[49m\u001b[43m)\u001b[49m\n",
      "File \u001b[1;32m~\\AppData\\Local\\Programs\\Python\\Python311\\Lib\\site-packages\\serpapi\\core.py:66\u001b[0m, in \u001b[0;36mClient.search\u001b[1;34m(self, params, **kwargs)\u001b[0m\n\u001b[0;32m     63\u001b[0m \u001b[38;5;28;01mif\u001b[39;00m kwargs:\n\u001b[0;32m     64\u001b[0m     params\u001b[38;5;241m.\u001b[39mupdate(kwargs)\n\u001b[1;32m---> 66\u001b[0m r \u001b[38;5;241m=\u001b[39m \u001b[38;5;28;43mself\u001b[39;49m\u001b[38;5;241;43m.\u001b[39;49m\u001b[43mrequest\u001b[49m\u001b[43m(\u001b[49m\u001b[38;5;124;43m\"\u001b[39;49m\u001b[38;5;124;43mGET\u001b[39;49m\u001b[38;5;124;43m\"\u001b[39;49m\u001b[43m,\u001b[49m\u001b[43m \u001b[49m\u001b[38;5;124;43m\"\u001b[39;49m\u001b[38;5;124;43m/search\u001b[39;49m\u001b[38;5;124;43m\"\u001b[39;49m\u001b[43m,\u001b[49m\u001b[43m \u001b[49m\u001b[43mparams\u001b[49m\u001b[38;5;241;43m=\u001b[39;49m\u001b[43mparams\u001b[49m\u001b[43m)\u001b[49m\n\u001b[0;32m     68\u001b[0m \u001b[38;5;28;01mreturn\u001b[39;00m SerpResults\u001b[38;5;241m.\u001b[39mfrom_http_response(r, client\u001b[38;5;241m=\u001b[39m\u001b[38;5;28mself\u001b[39m)\n",
      "File \u001b[1;32m~\\AppData\\Local\\Programs\\Python\\Python311\\Lib\\site-packages\\serpapi\\http.py:49\u001b[0m, in \u001b[0;36mHTTPClient.request\u001b[1;34m(self, method, path, params, assert_200, **kwargs)\u001b[0m\n\u001b[0;32m     47\u001b[0m         raise_for_status(r)\n\u001b[0;32m     48\u001b[0m     \u001b[38;5;28;01mexcept\u001b[39;00m requests\u001b[38;5;241m.\u001b[39mexceptions\u001b[38;5;241m.\u001b[39mHTTPError \u001b[38;5;28;01mas\u001b[39;00m e:\n\u001b[1;32m---> 49\u001b[0m         \u001b[38;5;28;01mraise\u001b[39;00m HTTPError(e)\n\u001b[0;32m     51\u001b[0m \u001b[38;5;28;01mreturn\u001b[39;00m r\n",
      "\u001b[1;31mHTTPError\u001b[0m: 401 Client Error: Unauthorized for url: https://serpapi.com/search?engine=google_play&q=loan&store=apps&max_results=2"
     ]
    }
   ],
   "source": [
    "# import os\n",
    "# import serpapi\n",
    "\n",
    "# client = serpapi.Client(api_key=os.getenv(\"a10d631d0be4a4aa4f6090efa40799ed0faa89958cfe330b47e5a2f6534dd6e3\"))\n",
    "# results = client.search({\n",
    "#     'engine': 'google_play',\n",
    "#     'q': 'loan',\n",
    "#     'store': 'apps',\n",
    "#     'max_results': '2',\n",
    "# })"
   ]
  },
  {
   "cell_type": "code",
   "execution_count": 48,
   "id": "0d9156e2-6648-43e8-97af-1e5117ce9a56",
   "metadata": {},
   "outputs": [
    {
     "ename": "ImportError",
     "evalue": "cannot import name 'GoogleSearch' from 'serpapi' (C:\\Users\\janam\\AppData\\Local\\Programs\\Python\\Python311\\Lib\\site-packages\\serpapi\\__init__.py)",
     "output_type": "error",
     "traceback": [
      "\u001b[1;31m---------------------------------------------------------------------------\u001b[0m",
      "\u001b[1;31mImportError\u001b[0m                               Traceback (most recent call last)",
      "Cell \u001b[1;32mIn[48], line 1\u001b[0m\n\u001b[1;32m----> 1\u001b[0m \u001b[38;5;28;01mfrom\u001b[39;00m \u001b[38;5;21;01mserpapi\u001b[39;00m \u001b[38;5;28;01mimport\u001b[39;00m GoogleSearch\n\u001b[0;32m      3\u001b[0m params \u001b[38;5;241m=\u001b[39m {\n\u001b[0;32m      4\u001b[0m   \u001b[38;5;124m\"\u001b[39m\u001b[38;5;124mapi_key\u001b[39m\u001b[38;5;124m\"\u001b[39m: \u001b[38;5;124m\"\u001b[39m\u001b[38;5;124ma10d631d0be4a4aa4f6090efa40799ed0faa89958cfe330b47e5a2f6534dd6e3\u001b[39m\u001b[38;5;124m\"\u001b[39m,\n\u001b[0;32m      5\u001b[0m   \u001b[38;5;124m\"\u001b[39m\u001b[38;5;124mengine\u001b[39m\u001b[38;5;124m\"\u001b[39m: \u001b[38;5;124m\"\u001b[39m\u001b[38;5;124mgoogle_play\u001b[39m\u001b[38;5;124m\"\u001b[39m,\n\u001b[1;32m   (...)\u001b[0m\n\u001b[0;32m     10\u001b[0m   \u001b[38;5;124m\"\u001b[39m\u001b[38;5;124mno_cache\u001b[39m\u001b[38;5;124m\"\u001b[39m: \u001b[38;5;124m\"\u001b[39m\u001b[38;5;124mtrue\u001b[39m\u001b[38;5;124m\"\u001b[39m\n\u001b[0;32m     11\u001b[0m }\n\u001b[0;32m     13\u001b[0m search \u001b[38;5;241m=\u001b[39m GoogleSearch(params)\n",
      "\u001b[1;31mImportError\u001b[0m: cannot import name 'GoogleSearch' from 'serpapi' (C:\\Users\\janam\\AppData\\Local\\Programs\\Python\\Python311\\Lib\\site-packages\\serpapi\\__init__.py)"
     ]
    }
   ],
   "source": [
    "# from serpapi import GoogleSearch\n",
    "\n",
    "# params = {\n",
    "#   \"api_key\": \"a10d631d0be4a4aa4f6090efa40799ed0faa89958cfe330b47e5a2f6534dd6e3\",\n",
    "#   \"engine\": \"google_play\",\n",
    "#   \"hl\": \"en\",\n",
    "#   \"gl\": \"us\",\n",
    "#   \"store\": \"apps\",\n",
    "#   \"q\": \"loan app\",\n",
    "#   \"no_cache\": \"true\"\n",
    "# }\n",
    "\n",
    "# search = GoogleSearch(params)\n",
    "# results = search.get_dict()"
   ]
  },
  {
   "cell_type": "code",
   "execution_count": 3,
   "id": "7269a23f-0489-46ea-9f2a-0434686efe71",
   "metadata": {},
   "outputs": [],
   "source": [
    "import numpy as np\n",
    "import pandas as pd"
   ]
  },
  {
   "cell_type": "code",
   "execution_count": 4,
   "id": "ccee0447-c3b9-4a8b-bbc7-ce98249f2a3d",
   "metadata": {},
   "outputs": [
    {
     "ename": "ValueError",
     "evalue": "All arrays must be of the same length",
     "output_type": "error",
     "traceback": [
      "\u001b[1;31m---------------------------------------------------------------------------\u001b[0m",
      "\u001b[1;31mValueError\u001b[0m                                Traceback (most recent call last)",
      "Cell \u001b[1;32mIn[4], line 1\u001b[0m\n\u001b[1;32m----> 1\u001b[0m data\u001b[38;5;241m=\u001b[39m\u001b[43mpd\u001b[49m\u001b[38;5;241;43m.\u001b[39;49m\u001b[43mread_json\u001b[49m\u001b[43m(\u001b[49m\u001b[38;5;124;43m\"\u001b[39;49m\u001b[38;5;124;43mdata.json\u001b[39;49m\u001b[38;5;124;43m\"\u001b[39;49m\u001b[43m)\u001b[49m\n",
      "File \u001b[1;32m~\\AppData\\Local\\Programs\\Python\\Python311\\Lib\\site-packages\\pandas\\io\\json\\_json.py:815\u001b[0m, in \u001b[0;36mread_json\u001b[1;34m(path_or_buf, orient, typ, dtype, convert_axes, convert_dates, keep_default_dates, precise_float, date_unit, encoding, encoding_errors, lines, chunksize, compression, nrows, storage_options, dtype_backend, engine)\u001b[0m\n\u001b[0;32m    813\u001b[0m     \u001b[38;5;28;01mreturn\u001b[39;00m json_reader\n\u001b[0;32m    814\u001b[0m \u001b[38;5;28;01melse\u001b[39;00m:\n\u001b[1;32m--> 815\u001b[0m     \u001b[38;5;28;01mreturn\u001b[39;00m \u001b[43mjson_reader\u001b[49m\u001b[38;5;241;43m.\u001b[39;49m\u001b[43mread\u001b[49m\u001b[43m(\u001b[49m\u001b[43m)\u001b[49m\n",
      "File \u001b[1;32m~\\AppData\\Local\\Programs\\Python\\Python311\\Lib\\site-packages\\pandas\\io\\json\\_json.py:1025\u001b[0m, in \u001b[0;36mJsonReader.read\u001b[1;34m(self)\u001b[0m\n\u001b[0;32m   1023\u001b[0m         obj \u001b[38;5;241m=\u001b[39m \u001b[38;5;28mself\u001b[39m\u001b[38;5;241m.\u001b[39m_get_object_parser(\u001b[38;5;28mself\u001b[39m\u001b[38;5;241m.\u001b[39m_combine_lines(data_lines))\n\u001b[0;32m   1024\u001b[0m \u001b[38;5;28;01melse\u001b[39;00m:\n\u001b[1;32m-> 1025\u001b[0m     obj \u001b[38;5;241m=\u001b[39m \u001b[38;5;28;43mself\u001b[39;49m\u001b[38;5;241;43m.\u001b[39;49m\u001b[43m_get_object_parser\u001b[49m\u001b[43m(\u001b[49m\u001b[38;5;28;43mself\u001b[39;49m\u001b[38;5;241;43m.\u001b[39;49m\u001b[43mdata\u001b[49m\u001b[43m)\u001b[49m\n\u001b[0;32m   1026\u001b[0m \u001b[38;5;28;01mif\u001b[39;00m \u001b[38;5;28mself\u001b[39m\u001b[38;5;241m.\u001b[39mdtype_backend \u001b[38;5;129;01mis\u001b[39;00m \u001b[38;5;129;01mnot\u001b[39;00m lib\u001b[38;5;241m.\u001b[39mno_default:\n\u001b[0;32m   1027\u001b[0m     \u001b[38;5;28;01mreturn\u001b[39;00m obj\u001b[38;5;241m.\u001b[39mconvert_dtypes(\n\u001b[0;32m   1028\u001b[0m         infer_objects\u001b[38;5;241m=\u001b[39m\u001b[38;5;28;01mFalse\u001b[39;00m, dtype_backend\u001b[38;5;241m=\u001b[39m\u001b[38;5;28mself\u001b[39m\u001b[38;5;241m.\u001b[39mdtype_backend\n\u001b[0;32m   1029\u001b[0m     )\n",
      "File \u001b[1;32m~\\AppData\\Local\\Programs\\Python\\Python311\\Lib\\site-packages\\pandas\\io\\json\\_json.py:1051\u001b[0m, in \u001b[0;36mJsonReader._get_object_parser\u001b[1;34m(self, json)\u001b[0m\n\u001b[0;32m   1049\u001b[0m obj \u001b[38;5;241m=\u001b[39m \u001b[38;5;28;01mNone\u001b[39;00m\n\u001b[0;32m   1050\u001b[0m \u001b[38;5;28;01mif\u001b[39;00m typ \u001b[38;5;241m==\u001b[39m \u001b[38;5;124m\"\u001b[39m\u001b[38;5;124mframe\u001b[39m\u001b[38;5;124m\"\u001b[39m:\n\u001b[1;32m-> 1051\u001b[0m     obj \u001b[38;5;241m=\u001b[39m \u001b[43mFrameParser\u001b[49m\u001b[43m(\u001b[49m\u001b[43mjson\u001b[49m\u001b[43m,\u001b[49m\u001b[43m \u001b[49m\u001b[38;5;241;43m*\u001b[39;49m\u001b[38;5;241;43m*\u001b[39;49m\u001b[43mkwargs\u001b[49m\u001b[43m)\u001b[49m\u001b[38;5;241;43m.\u001b[39;49m\u001b[43mparse\u001b[49m\u001b[43m(\u001b[49m\u001b[43m)\u001b[49m\n\u001b[0;32m   1053\u001b[0m \u001b[38;5;28;01mif\u001b[39;00m typ \u001b[38;5;241m==\u001b[39m \u001b[38;5;124m\"\u001b[39m\u001b[38;5;124mseries\u001b[39m\u001b[38;5;124m\"\u001b[39m \u001b[38;5;129;01mor\u001b[39;00m obj \u001b[38;5;129;01mis\u001b[39;00m \u001b[38;5;28;01mNone\u001b[39;00m:\n\u001b[0;32m   1054\u001b[0m     \u001b[38;5;28;01mif\u001b[39;00m \u001b[38;5;129;01mnot\u001b[39;00m \u001b[38;5;28misinstance\u001b[39m(dtype, \u001b[38;5;28mbool\u001b[39m):\n",
      "File \u001b[1;32m~\\AppData\\Local\\Programs\\Python\\Python311\\Lib\\site-packages\\pandas\\io\\json\\_json.py:1187\u001b[0m, in \u001b[0;36mParser.parse\u001b[1;34m(self)\u001b[0m\n\u001b[0;32m   1185\u001b[0m \u001b[38;5;129m@final\u001b[39m\n\u001b[0;32m   1186\u001b[0m \u001b[38;5;28;01mdef\u001b[39;00m \u001b[38;5;21mparse\u001b[39m(\u001b[38;5;28mself\u001b[39m):\n\u001b[1;32m-> 1187\u001b[0m     \u001b[38;5;28;43mself\u001b[39;49m\u001b[38;5;241;43m.\u001b[39;49m\u001b[43m_parse\u001b[49m\u001b[43m(\u001b[49m\u001b[43m)\u001b[49m\n\u001b[0;32m   1189\u001b[0m     \u001b[38;5;28;01mif\u001b[39;00m \u001b[38;5;28mself\u001b[39m\u001b[38;5;241m.\u001b[39mobj \u001b[38;5;129;01mis\u001b[39;00m \u001b[38;5;28;01mNone\u001b[39;00m:\n\u001b[0;32m   1190\u001b[0m         \u001b[38;5;28;01mreturn\u001b[39;00m \u001b[38;5;28;01mNone\u001b[39;00m\n",
      "File \u001b[1;32m~\\AppData\\Local\\Programs\\Python\\Python311\\Lib\\site-packages\\pandas\\io\\json\\_json.py:1402\u001b[0m, in \u001b[0;36mFrameParser._parse\u001b[1;34m(self)\u001b[0m\n\u001b[0;32m   1399\u001b[0m orient \u001b[38;5;241m=\u001b[39m \u001b[38;5;28mself\u001b[39m\u001b[38;5;241m.\u001b[39morient\n\u001b[0;32m   1401\u001b[0m \u001b[38;5;28;01mif\u001b[39;00m orient \u001b[38;5;241m==\u001b[39m \u001b[38;5;124m\"\u001b[39m\u001b[38;5;124mcolumns\u001b[39m\u001b[38;5;124m\"\u001b[39m:\n\u001b[1;32m-> 1402\u001b[0m     \u001b[38;5;28mself\u001b[39m\u001b[38;5;241m.\u001b[39mobj \u001b[38;5;241m=\u001b[39m \u001b[43mDataFrame\u001b[49m\u001b[43m(\u001b[49m\n\u001b[0;32m   1403\u001b[0m \u001b[43m        \u001b[49m\u001b[43mujson_loads\u001b[49m\u001b[43m(\u001b[49m\u001b[43mjson\u001b[49m\u001b[43m,\u001b[49m\u001b[43m \u001b[49m\u001b[43mprecise_float\u001b[49m\u001b[38;5;241;43m=\u001b[39;49m\u001b[38;5;28;43mself\u001b[39;49m\u001b[38;5;241;43m.\u001b[39;49m\u001b[43mprecise_float\u001b[49m\u001b[43m)\u001b[49m\u001b[43m,\u001b[49m\u001b[43m \u001b[49m\u001b[43mdtype\u001b[49m\u001b[38;5;241;43m=\u001b[39;49m\u001b[38;5;28;43;01mNone\u001b[39;49;00m\n\u001b[0;32m   1404\u001b[0m \u001b[43m    \u001b[49m\u001b[43m)\u001b[49m\n\u001b[0;32m   1405\u001b[0m \u001b[38;5;28;01melif\u001b[39;00m orient \u001b[38;5;241m==\u001b[39m \u001b[38;5;124m\"\u001b[39m\u001b[38;5;124msplit\u001b[39m\u001b[38;5;124m\"\u001b[39m:\n\u001b[0;32m   1406\u001b[0m     decoded \u001b[38;5;241m=\u001b[39m {\n\u001b[0;32m   1407\u001b[0m         \u001b[38;5;28mstr\u001b[39m(k): v\n\u001b[0;32m   1408\u001b[0m         \u001b[38;5;28;01mfor\u001b[39;00m k, v \u001b[38;5;129;01min\u001b[39;00m ujson_loads(json, precise_float\u001b[38;5;241m=\u001b[39m\u001b[38;5;28mself\u001b[39m\u001b[38;5;241m.\u001b[39mprecise_float)\u001b[38;5;241m.\u001b[39mitems()\n\u001b[0;32m   1409\u001b[0m     }\n",
      "File \u001b[1;32m~\\AppData\\Local\\Programs\\Python\\Python311\\Lib\\site-packages\\pandas\\core\\frame.py:778\u001b[0m, in \u001b[0;36mDataFrame.__init__\u001b[1;34m(self, data, index, columns, dtype, copy)\u001b[0m\n\u001b[0;32m    772\u001b[0m     mgr \u001b[38;5;241m=\u001b[39m \u001b[38;5;28mself\u001b[39m\u001b[38;5;241m.\u001b[39m_init_mgr(\n\u001b[0;32m    773\u001b[0m         data, axes\u001b[38;5;241m=\u001b[39m{\u001b[38;5;124m\"\u001b[39m\u001b[38;5;124mindex\u001b[39m\u001b[38;5;124m\"\u001b[39m: index, \u001b[38;5;124m\"\u001b[39m\u001b[38;5;124mcolumns\u001b[39m\u001b[38;5;124m\"\u001b[39m: columns}, dtype\u001b[38;5;241m=\u001b[39mdtype, copy\u001b[38;5;241m=\u001b[39mcopy\n\u001b[0;32m    774\u001b[0m     )\n\u001b[0;32m    776\u001b[0m \u001b[38;5;28;01melif\u001b[39;00m \u001b[38;5;28misinstance\u001b[39m(data, \u001b[38;5;28mdict\u001b[39m):\n\u001b[0;32m    777\u001b[0m     \u001b[38;5;66;03m# GH#38939 de facto copy defaults to False only in non-dict cases\u001b[39;00m\n\u001b[1;32m--> 778\u001b[0m     mgr \u001b[38;5;241m=\u001b[39m \u001b[43mdict_to_mgr\u001b[49m\u001b[43m(\u001b[49m\u001b[43mdata\u001b[49m\u001b[43m,\u001b[49m\u001b[43m \u001b[49m\u001b[43mindex\u001b[49m\u001b[43m,\u001b[49m\u001b[43m \u001b[49m\u001b[43mcolumns\u001b[49m\u001b[43m,\u001b[49m\u001b[43m \u001b[49m\u001b[43mdtype\u001b[49m\u001b[38;5;241;43m=\u001b[39;49m\u001b[43mdtype\u001b[49m\u001b[43m,\u001b[49m\u001b[43m \u001b[49m\u001b[43mcopy\u001b[49m\u001b[38;5;241;43m=\u001b[39;49m\u001b[43mcopy\u001b[49m\u001b[43m,\u001b[49m\u001b[43m \u001b[49m\u001b[43mtyp\u001b[49m\u001b[38;5;241;43m=\u001b[39;49m\u001b[43mmanager\u001b[49m\u001b[43m)\u001b[49m\n\u001b[0;32m    779\u001b[0m \u001b[38;5;28;01melif\u001b[39;00m \u001b[38;5;28misinstance\u001b[39m(data, ma\u001b[38;5;241m.\u001b[39mMaskedArray):\n\u001b[0;32m    780\u001b[0m     \u001b[38;5;28;01mfrom\u001b[39;00m \u001b[38;5;21;01mnumpy\u001b[39;00m\u001b[38;5;21;01m.\u001b[39;00m\u001b[38;5;21;01mma\u001b[39;00m \u001b[38;5;28;01mimport\u001b[39;00m mrecords\n",
      "File \u001b[1;32m~\\AppData\\Local\\Programs\\Python\\Python311\\Lib\\site-packages\\pandas\\core\\internals\\construction.py:503\u001b[0m, in \u001b[0;36mdict_to_mgr\u001b[1;34m(data, index, columns, dtype, typ, copy)\u001b[0m\n\u001b[0;32m    499\u001b[0m     \u001b[38;5;28;01melse\u001b[39;00m:\n\u001b[0;32m    500\u001b[0m         \u001b[38;5;66;03m# dtype check to exclude e.g. range objects, scalars\u001b[39;00m\n\u001b[0;32m    501\u001b[0m         arrays \u001b[38;5;241m=\u001b[39m [x\u001b[38;5;241m.\u001b[39mcopy() \u001b[38;5;28;01mif\u001b[39;00m \u001b[38;5;28mhasattr\u001b[39m(x, \u001b[38;5;124m\"\u001b[39m\u001b[38;5;124mdtype\u001b[39m\u001b[38;5;124m\"\u001b[39m) \u001b[38;5;28;01melse\u001b[39;00m x \u001b[38;5;28;01mfor\u001b[39;00m x \u001b[38;5;129;01min\u001b[39;00m arrays]\n\u001b[1;32m--> 503\u001b[0m \u001b[38;5;28;01mreturn\u001b[39;00m \u001b[43marrays_to_mgr\u001b[49m\u001b[43m(\u001b[49m\u001b[43marrays\u001b[49m\u001b[43m,\u001b[49m\u001b[43m \u001b[49m\u001b[43mcolumns\u001b[49m\u001b[43m,\u001b[49m\u001b[43m \u001b[49m\u001b[43mindex\u001b[49m\u001b[43m,\u001b[49m\u001b[43m \u001b[49m\u001b[43mdtype\u001b[49m\u001b[38;5;241;43m=\u001b[39;49m\u001b[43mdtype\u001b[49m\u001b[43m,\u001b[49m\u001b[43m \u001b[49m\u001b[43mtyp\u001b[49m\u001b[38;5;241;43m=\u001b[39;49m\u001b[43mtyp\u001b[49m\u001b[43m,\u001b[49m\u001b[43m \u001b[49m\u001b[43mconsolidate\u001b[49m\u001b[38;5;241;43m=\u001b[39;49m\u001b[43mcopy\u001b[49m\u001b[43m)\u001b[49m\n",
      "File \u001b[1;32m~\\AppData\\Local\\Programs\\Python\\Python311\\Lib\\site-packages\\pandas\\core\\internals\\construction.py:114\u001b[0m, in \u001b[0;36marrays_to_mgr\u001b[1;34m(arrays, columns, index, dtype, verify_integrity, typ, consolidate)\u001b[0m\n\u001b[0;32m    111\u001b[0m \u001b[38;5;28;01mif\u001b[39;00m verify_integrity:\n\u001b[0;32m    112\u001b[0m     \u001b[38;5;66;03m# figure out the index, if necessary\u001b[39;00m\n\u001b[0;32m    113\u001b[0m     \u001b[38;5;28;01mif\u001b[39;00m index \u001b[38;5;129;01mis\u001b[39;00m \u001b[38;5;28;01mNone\u001b[39;00m:\n\u001b[1;32m--> 114\u001b[0m         index \u001b[38;5;241m=\u001b[39m \u001b[43m_extract_index\u001b[49m\u001b[43m(\u001b[49m\u001b[43marrays\u001b[49m\u001b[43m)\u001b[49m\n\u001b[0;32m    115\u001b[0m     \u001b[38;5;28;01melse\u001b[39;00m:\n\u001b[0;32m    116\u001b[0m         index \u001b[38;5;241m=\u001b[39m ensure_index(index)\n",
      "File \u001b[1;32m~\\AppData\\Local\\Programs\\Python\\Python311\\Lib\\site-packages\\pandas\\core\\internals\\construction.py:677\u001b[0m, in \u001b[0;36m_extract_index\u001b[1;34m(data)\u001b[0m\n\u001b[0;32m    675\u001b[0m lengths \u001b[38;5;241m=\u001b[39m \u001b[38;5;28mlist\u001b[39m(\u001b[38;5;28mset\u001b[39m(raw_lengths))\n\u001b[0;32m    676\u001b[0m \u001b[38;5;28;01mif\u001b[39;00m \u001b[38;5;28mlen\u001b[39m(lengths) \u001b[38;5;241m>\u001b[39m \u001b[38;5;241m1\u001b[39m:\n\u001b[1;32m--> 677\u001b[0m     \u001b[38;5;28;01mraise\u001b[39;00m \u001b[38;5;167;01mValueError\u001b[39;00m(\u001b[38;5;124m\"\u001b[39m\u001b[38;5;124mAll arrays must be of the same length\u001b[39m\u001b[38;5;124m\"\u001b[39m)\n\u001b[0;32m    679\u001b[0m \u001b[38;5;28;01mif\u001b[39;00m have_dicts:\n\u001b[0;32m    680\u001b[0m     \u001b[38;5;28;01mraise\u001b[39;00m \u001b[38;5;167;01mValueError\u001b[39;00m(\n\u001b[0;32m    681\u001b[0m         \u001b[38;5;124m\"\u001b[39m\u001b[38;5;124mMixing dicts with non-Series may lead to ambiguous ordering.\u001b[39m\u001b[38;5;124m\"\u001b[39m\n\u001b[0;32m    682\u001b[0m     )\n",
      "\u001b[1;31mValueError\u001b[0m: All arrays must be of the same length"
     ]
    }
   ],
   "source": [
    "data=pd.read_json(\"data.json\")"
   ]
  },
  {
   "cell_type": "code",
   "execution_count": 2,
   "id": "b5bb77f0-4136-4606-9bae-b494985b25c3",
   "metadata": {},
   "outputs": [
    {
     "ename": "NameError",
     "evalue": "name 'data' is not defined",
     "output_type": "error",
     "traceback": [
      "\u001b[1;31m---------------------------------------------------------------------------\u001b[0m",
      "\u001b[1;31mNameError\u001b[0m                                 Traceback (most recent call last)",
      "Cell \u001b[1;32mIn[2], line 41\u001b[0m\n\u001b[0;32m     38\u001b[0m     \u001b[38;5;28;01mreturn\u001b[39;00m normalized_score\n\u001b[0;32m     40\u001b[0m \u001b[38;5;66;03m# Calculate scores for each browsable activity\u001b[39;00m\n\u001b[1;32m---> 41\u001b[0m browsable_activities \u001b[38;5;241m=\u001b[39m \u001b[43mdata\u001b[49m\u001b[38;5;241m.\u001b[39mget(\u001b[38;5;124m\"\u001b[39m\u001b[38;5;124mbrowsable_activities\u001b[39m\u001b[38;5;124m\"\u001b[39m, {})\n\u001b[0;32m     42\u001b[0m total_browsable_score \u001b[38;5;241m=\u001b[39m \u001b[38;5;241m0\u001b[39m\n\u001b[0;32m     43\u001b[0m count_browsable \u001b[38;5;241m=\u001b[39m \u001b[38;5;241m0\u001b[39m\n",
      "\u001b[1;31mNameError\u001b[0m: name 'data' is not defined"
     ]
    }
   ],
   "source": [
    "def calculate_browsable_activity_score(activity):\n",
    "    scores = {\n",
    "        'intent_types': {\n",
    "            'http': 3,\n",
    "            'https': 3,\n",
    "            'file': 1,\n",
    "            'content': 1\n",
    "        },\n",
    "        'hosts': {\n",
    "            '*': 2\n",
    "        },\n",
    "        'mime_types': {\n",
    "            '/': 2\n",
    "        },\n",
    "        'path_patterns': {\n",
    "            '.*': 2\n",
    "        }\n",
    "    }\n",
    "\n",
    "    total_possible_score = sum(scores['intent_types'].values()) + sum(scores['hosts'].values()) + \\\n",
    "                           sum(scores['mime_types'].values()) + sum(scores['path_patterns'].values())\n",
    "\n",
    "    score = 0\n",
    "\n",
    "    for scheme in activity['schemes']:\n",
    "        score += scores['intent_types'].get(scheme.replace(\"://\", \"\"), 1)\n",
    "\n",
    "    for host in activity['hosts']:\n",
    "        score += scores['hosts'].get(host, 1)\n",
    "\n",
    "    for mime_type in activity['mime_types']:\n",
    "        score += scores['mime_types'].get(mime_type, 1)\n",
    "\n",
    "    for path_pattern in activity['path_patterns']:\n",
    "        score += scores['path_patterns'].get(path_pattern, 1)\n",
    "\n",
    "    normalized_score = score / total_possible_score\n",
    "    return normalized_score\n",
    "\n",
    "# Calculate scores for each browsable activity\n",
    "browsable_activities = data.get(\"browsable_activities\", {})\n",
    "total_browsable_score = 0\n",
    "count_browsable = 0\n",
    "\n",
    "activity_scores = {}\n",
    "for activity_name, activity_details in browsable_activities.items():\n",
    "    score = calculate_browsable_activity_score(activity_details)\n",
    "    activity_scores[activity_name] = score\n",
    "    total_browsable_score += score\n",
    "    count_browsable += 1\n",
    "\n",
    "# Calculate mean score for browsable activities\n",
    "mean_browsable_score = total_browsable_score / count_browsable if count_browsable > 0 else 0\n",
    "\n",
    "# Print the scores for each activity\n",
    "for activity_name, score in activity_scores.items():\n",
    "    print(f\"The normalized score for {activity_name} is: {score}\")\n",
    "\n",
    "# Print the mean score\n",
    "print(f\"The mean normalized score for browsable activities is: {mean_browsable_score}\")"
   ]
  },
  {
   "cell_type": "code",
   "execution_count": null,
   "id": "d988b57f-2866-4177-ab63-c7d3254b111f",
   "metadata": {},
   "outputs": [],
   "source": []
  }
 ],
 "metadata": {
  "kernelspec": {
   "display_name": "Python 3 (ipykernel)",
   "language": "python",
   "name": "python3"
  },
  "language_info": {
   "codemirror_mode": {
    "name": "ipython",
    "version": 3
   },
   "file_extension": ".py",
   "mimetype": "text/x-python",
   "name": "python",
   "nbconvert_exporter": "python",
   "pygments_lexer": "ipython3",
   "version": "3.11.7"
  }
 },
 "nbformat": 4,
 "nbformat_minor": 5
}
